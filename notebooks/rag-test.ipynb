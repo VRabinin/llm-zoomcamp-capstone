{
 "cells": [
  {
   "cell_type": "markdown",
   "metadata": {},
   "source": [
    "# Imports"
   ]
  },
  {
   "cell_type": "code",
   "execution_count": 6,
   "metadata": {},
   "outputs": [
    {
     "name": "stderr",
     "output_type": "stream",
     "text": [
      "/Users/vrabinin/Documents/Github/llm-zoomcamp-capstone/.venv/lib/python3.11/site-packages/tqdm/auto.py:21: TqdmWarning: IProgress not found. Please update jupyter and ipywidgets. See https://ipywidgets.readthedocs.io/en/stable/user_install.html\n",
      "  from .autonotebook import tqdm as notebook_tqdm\n"
     ]
    }
   ],
   "source": [
    "import sys, os, importlib, pickle\n",
    "\n",
    "path2add = os.path.normpath(os.path.abspath(os.path.join(os.getcwd(), os.path.pardir, 'sql_generator')))\n",
    "\n",
    "if (not (path2add in sys.path)) :\n",
    "    sys.path.append(path2add)\n",
    "\n",
    "#print(path2add)\n",
    "\n",
    "#import index\n",
    "#import llm\n",
    "#import db\n",
    "#import util\n",
    "\n",
    "from index import Index\n",
    "from llm import LLM, PromptGenerator\n"
   ]
  },
  {
   "cell_type": "code",
   "execution_count": 7,
   "metadata": {},
   "outputs": [],
   "source": [
    "def reimport_all():\n",
    "    import index\n",
    "    import llm\n",
    "    import db\n",
    "    import util\n",
    "    importlib.reload(index)\n",
    "    importlib.reload(llm)\n",
    "    importlib.reload(db)\n",
    "    importlib.reload(util)"
   ]
  },
  {
   "cell_type": "markdown",
   "metadata": {},
   "source": [
    "# Index Data"
   ]
  },
  {
   "cell_type": "markdown",
   "metadata": {},
   "source": [
    "## Extract DB Metadata"
   ]
  },
  {
   "cell_type": "code",
   "execution_count": 10,
   "metadata": {},
   "outputs": [
    {
     "name": "stdout",
     "output_type": "stream",
     "text": [
      "['adventureworks', 'dvdrental']\n"
     ]
    },
    {
     "data": {
      "text/html": [
       "<div>\n",
       "<style scoped>\n",
       "    .dataframe tbody tr th:only-of-type {\n",
       "        vertical-align: middle;\n",
       "    }\n",
       "\n",
       "    .dataframe tbody tr th {\n",
       "        vertical-align: top;\n",
       "    }\n",
       "\n",
       "    .dataframe thead th {\n",
       "        text-align: right;\n",
       "    }\n",
       "</style>\n",
       "<table border=\"1\" class=\"dataframe\">\n",
       "  <thead>\n",
       "    <tr style=\"text-align: right;\">\n",
       "      <th></th>\n",
       "      <th>table_schema</th>\n",
       "      <th>table_name</th>\n",
       "      <th>table_type</th>\n",
       "      <th>column_name</th>\n",
       "      <th>data_type</th>\n",
       "      <th>is_primary_key</th>\n",
       "      <th>is_nullable</th>\n",
       "    </tr>\n",
       "  </thead>\n",
       "  <tbody>\n",
       "    <tr>\n",
       "      <th>0</th>\n",
       "      <td>public</td>\n",
       "      <td>actor</td>\n",
       "      <td>table</td>\n",
       "      <td>[actor_id, first_name, last_name, last_update]</td>\n",
       "      <td>[INTEGER, VARCHAR(45), VARCHAR(45), TIMESTAMP]</td>\n",
       "      <td>[True, False, False, False]</td>\n",
       "      <td>[False, False, False, False]</td>\n",
       "    </tr>\n",
       "    <tr>\n",
       "      <th>1</th>\n",
       "      <td>public</td>\n",
       "      <td>store</td>\n",
       "      <td>table</td>\n",
       "      <td>[store_id, manager_staff_id, address_id, last_...</td>\n",
       "      <td>[INTEGER, SMALLINT, SMALLINT, TIMESTAMP]</td>\n",
       "      <td>[True, False, False, False]</td>\n",
       "      <td>[False, False, False, False]</td>\n",
       "    </tr>\n",
       "    <tr>\n",
       "      <th>2</th>\n",
       "      <td>public</td>\n",
       "      <td>address</td>\n",
       "      <td>table</td>\n",
       "      <td>[address_id, address, address2, district, city...</td>\n",
       "      <td>[INTEGER, VARCHAR(50), VARCHAR(50), VARCHAR(20...</td>\n",
       "      <td>[True, False, False, False, False, False, Fals...</td>\n",
       "      <td>[False, False, True, False, False, True, False...</td>\n",
       "    </tr>\n",
       "    <tr>\n",
       "      <th>3</th>\n",
       "      <td>public</td>\n",
       "      <td>city</td>\n",
       "      <td>table</td>\n",
       "      <td>[city_id, city, country_id, last_update]</td>\n",
       "      <td>[INTEGER, VARCHAR(50), SMALLINT, TIMESTAMP]</td>\n",
       "      <td>[True, False, False, False]</td>\n",
       "      <td>[False, False, False, False]</td>\n",
       "    </tr>\n",
       "    <tr>\n",
       "      <th>4</th>\n",
       "      <td>public</td>\n",
       "      <td>country</td>\n",
       "      <td>table</td>\n",
       "      <td>[country_id, country, last_update]</td>\n",
       "      <td>[INTEGER, VARCHAR(50), TIMESTAMP]</td>\n",
       "      <td>[True, False, False]</td>\n",
       "      <td>[False, False, False]</td>\n",
       "    </tr>\n",
       "    <tr>\n",
       "      <th>5</th>\n",
       "      <td>public</td>\n",
       "      <td>staff</td>\n",
       "      <td>table</td>\n",
       "      <td>[staff_id, first_name, last_name, address_id, ...</td>\n",
       "      <td>[INTEGER, VARCHAR(45), VARCHAR(45), SMALLINT, ...</td>\n",
       "      <td>[True, False, False, False, False, False, Fals...</td>\n",
       "      <td>[False, False, False, False, True, False, Fals...</td>\n",
       "    </tr>\n",
       "    <tr>\n",
       "      <th>6</th>\n",
       "      <td>public</td>\n",
       "      <td>category</td>\n",
       "      <td>table</td>\n",
       "      <td>[category_id, name, last_update]</td>\n",
       "      <td>[INTEGER, VARCHAR(25), TIMESTAMP]</td>\n",
       "      <td>[True, False, False]</td>\n",
       "      <td>[False, False, False]</td>\n",
       "    </tr>\n",
       "    <tr>\n",
       "      <th>7</th>\n",
       "      <td>public</td>\n",
       "      <td>customer</td>\n",
       "      <td>table</td>\n",
       "      <td>[customer_id, store_id, first_name, last_name,...</td>\n",
       "      <td>[INTEGER, SMALLINT, VARCHAR(45), VARCHAR(45), ...</td>\n",
       "      <td>[True, False, False, False, False, False, Fals...</td>\n",
       "      <td>[False, False, False, False, True, False, Fals...</td>\n",
       "    </tr>\n",
       "    <tr>\n",
       "      <th>8</th>\n",
       "      <td>public</td>\n",
       "      <td>film_actor</td>\n",
       "      <td>table</td>\n",
       "      <td>[actor_id, film_id, last_update]</td>\n",
       "      <td>[SMALLINT, SMALLINT, TIMESTAMP]</td>\n",
       "      <td>[True, True, False]</td>\n",
       "      <td>[False, False, False]</td>\n",
       "    </tr>\n",
       "    <tr>\n",
       "      <th>9</th>\n",
       "      <td>public</td>\n",
       "      <td>film</td>\n",
       "      <td>table</td>\n",
       "      <td>[film_id, title, description, release_year, la...</td>\n",
       "      <td>[INTEGER, VARCHAR(255), TEXT, DOMAIN, SMALLINT...</td>\n",
       "      <td>[True, False, False, False, False, False, Fals...</td>\n",
       "      <td>[False, False, True, True, False, False, False...</td>\n",
       "    </tr>\n",
       "    <tr>\n",
       "      <th>10</th>\n",
       "      <td>public</td>\n",
       "      <td>language</td>\n",
       "      <td>table</td>\n",
       "      <td>[language_id, name, last_update]</td>\n",
       "      <td>[INTEGER, CHAR(20), TIMESTAMP]</td>\n",
       "      <td>[True, False, False]</td>\n",
       "      <td>[False, False, False]</td>\n",
       "    </tr>\n",
       "    <tr>\n",
       "      <th>11</th>\n",
       "      <td>public</td>\n",
       "      <td>film_category</td>\n",
       "      <td>table</td>\n",
       "      <td>[film_id, category_id, last_update]</td>\n",
       "      <td>[SMALLINT, SMALLINT, TIMESTAMP]</td>\n",
       "      <td>[True, True, False]</td>\n",
       "      <td>[False, False, False]</td>\n",
       "    </tr>\n",
       "    <tr>\n",
       "      <th>12</th>\n",
       "      <td>public</td>\n",
       "      <td>inventory</td>\n",
       "      <td>table</td>\n",
       "      <td>[inventory_id, film_id, store_id, last_update]</td>\n",
       "      <td>[INTEGER, SMALLINT, SMALLINT, TIMESTAMP]</td>\n",
       "      <td>[True, False, False, False]</td>\n",
       "      <td>[False, False, False, False]</td>\n",
       "    </tr>\n",
       "    <tr>\n",
       "      <th>13</th>\n",
       "      <td>public</td>\n",
       "      <td>rental</td>\n",
       "      <td>table</td>\n",
       "      <td>[rental_id, rental_date, inventory_id, custome...</td>\n",
       "      <td>[INTEGER, TIMESTAMP, INTEGER, SMALLINT, TIMEST...</td>\n",
       "      <td>[True, False, False, False, False, False, False]</td>\n",
       "      <td>[False, False, False, False, True, False, False]</td>\n",
       "    </tr>\n",
       "    <tr>\n",
       "      <th>14</th>\n",
       "      <td>public</td>\n",
       "      <td>payment</td>\n",
       "      <td>table</td>\n",
       "      <td>[payment_id, customer_id, staff_id, rental_id,...</td>\n",
       "      <td>[INTEGER, SMALLINT, SMALLINT, INTEGER, NUMERIC...</td>\n",
       "      <td>[True, False, False, False, False, False]</td>\n",
       "      <td>[False, False, False, False, False, False]</td>\n",
       "    </tr>\n",
       "  </tbody>\n",
       "</table>\n",
       "</div>"
      ],
      "text/plain": [
       "   table_schema     table_name table_type  \\\n",
       "0        public          actor      table   \n",
       "1        public          store      table   \n",
       "2        public        address      table   \n",
       "3        public           city      table   \n",
       "4        public        country      table   \n",
       "5        public          staff      table   \n",
       "6        public       category      table   \n",
       "7        public       customer      table   \n",
       "8        public     film_actor      table   \n",
       "9        public           film      table   \n",
       "10       public       language      table   \n",
       "11       public  film_category      table   \n",
       "12       public      inventory      table   \n",
       "13       public         rental      table   \n",
       "14       public        payment      table   \n",
       "\n",
       "                                          column_name  \\\n",
       "0      [actor_id, first_name, last_name, last_update]   \n",
       "1   [store_id, manager_staff_id, address_id, last_...   \n",
       "2   [address_id, address, address2, district, city...   \n",
       "3            [city_id, city, country_id, last_update]   \n",
       "4                  [country_id, country, last_update]   \n",
       "5   [staff_id, first_name, last_name, address_id, ...   \n",
       "6                    [category_id, name, last_update]   \n",
       "7   [customer_id, store_id, first_name, last_name,...   \n",
       "8                    [actor_id, film_id, last_update]   \n",
       "9   [film_id, title, description, release_year, la...   \n",
       "10                   [language_id, name, last_update]   \n",
       "11                [film_id, category_id, last_update]   \n",
       "12     [inventory_id, film_id, store_id, last_update]   \n",
       "13  [rental_id, rental_date, inventory_id, custome...   \n",
       "14  [payment_id, customer_id, staff_id, rental_id,...   \n",
       "\n",
       "                                            data_type  \\\n",
       "0      [INTEGER, VARCHAR(45), VARCHAR(45), TIMESTAMP]   \n",
       "1            [INTEGER, SMALLINT, SMALLINT, TIMESTAMP]   \n",
       "2   [INTEGER, VARCHAR(50), VARCHAR(50), VARCHAR(20...   \n",
       "3         [INTEGER, VARCHAR(50), SMALLINT, TIMESTAMP]   \n",
       "4                   [INTEGER, VARCHAR(50), TIMESTAMP]   \n",
       "5   [INTEGER, VARCHAR(45), VARCHAR(45), SMALLINT, ...   \n",
       "6                   [INTEGER, VARCHAR(25), TIMESTAMP]   \n",
       "7   [INTEGER, SMALLINT, VARCHAR(45), VARCHAR(45), ...   \n",
       "8                     [SMALLINT, SMALLINT, TIMESTAMP]   \n",
       "9   [INTEGER, VARCHAR(255), TEXT, DOMAIN, SMALLINT...   \n",
       "10                     [INTEGER, CHAR(20), TIMESTAMP]   \n",
       "11                    [SMALLINT, SMALLINT, TIMESTAMP]   \n",
       "12           [INTEGER, SMALLINT, SMALLINT, TIMESTAMP]   \n",
       "13  [INTEGER, TIMESTAMP, INTEGER, SMALLINT, TIMEST...   \n",
       "14  [INTEGER, SMALLINT, SMALLINT, INTEGER, NUMERIC...   \n",
       "\n",
       "                                       is_primary_key  \\\n",
       "0                         [True, False, False, False]   \n",
       "1                         [True, False, False, False]   \n",
       "2   [True, False, False, False, False, False, Fals...   \n",
       "3                         [True, False, False, False]   \n",
       "4                                [True, False, False]   \n",
       "5   [True, False, False, False, False, False, Fals...   \n",
       "6                                [True, False, False]   \n",
       "7   [True, False, False, False, False, False, Fals...   \n",
       "8                                 [True, True, False]   \n",
       "9   [True, False, False, False, False, False, Fals...   \n",
       "10                               [True, False, False]   \n",
       "11                                [True, True, False]   \n",
       "12                        [True, False, False, False]   \n",
       "13   [True, False, False, False, False, False, False]   \n",
       "14          [True, False, False, False, False, False]   \n",
       "\n",
       "                                          is_nullable  \n",
       "0                        [False, False, False, False]  \n",
       "1                        [False, False, False, False]  \n",
       "2   [False, False, True, False, False, True, False...  \n",
       "3                        [False, False, False, False]  \n",
       "4                               [False, False, False]  \n",
       "5   [False, False, False, False, True, False, Fals...  \n",
       "6                               [False, False, False]  \n",
       "7   [False, False, False, False, True, False, Fals...  \n",
       "8                               [False, False, False]  \n",
       "9   [False, False, True, True, False, False, False...  \n",
       "10                              [False, False, False]  \n",
       "11                              [False, False, False]  \n",
       "12                       [False, False, False, False]  \n",
       "13   [False, False, False, False, True, False, False]  \n",
       "14         [False, False, False, False, False, False]  "
      ]
     },
     "execution_count": 10,
     "metadata": {},
     "output_type": "execute_result"
    }
   ],
   "source": [
    "import db\n",
    "importlib.reload(db)\n",
    "from db import DBConnection\n",
    "db_conn = DBConnection(db_type='postgresql',\n",
    "                      db_name='dvdrental',\n",
    "                      db_host='localhost',\n",
    "                      db_port=os.environ['POSTGRES_L_PORT'], \n",
    "                      db_user=os.environ['POSTGRES_USER'] ,\n",
    "                      db_password=os.environ['POSTGRES_PASSWORD'])\n",
    "\n",
    "db_list = db_conn.get_database_list()\n",
    "print(db_list)\n",
    "\n",
    "md = db_conn.get_metadata(exclude_system_tables=True)\n",
    "md.df_table_columns.head(20)\n"
   ]
  },
  {
   "cell_type": "code",
   "execution_count": 15,
   "metadata": {},
   "outputs": [
    {
     "data": {
      "text/html": [
       "<div>\n",
       "<style scoped>\n",
       "    .dataframe tbody tr th:only-of-type {\n",
       "        vertical-align: middle;\n",
       "    }\n",
       "\n",
       "    .dataframe tbody tr th {\n",
       "        vertical-align: top;\n",
       "    }\n",
       "\n",
       "    .dataframe thead th {\n",
       "        text-align: right;\n",
       "    }\n",
       "</style>\n",
       "<table border=\"1\" class=\"dataframe\">\n",
       "  <thead>\n",
       "    <tr style=\"text-align: right;\">\n",
       "      <th></th>\n",
       "      <th>table_schema</th>\n",
       "      <th>table_name</th>\n",
       "      <th>table_type</th>\n",
       "      <th>column_name</th>\n",
       "      <th>data_type</th>\n",
       "      <th>is_primary_key</th>\n",
       "      <th>is_nullable</th>\n",
       "    </tr>\n",
       "  </thead>\n",
       "  <tbody>\n",
       "    <tr>\n",
       "      <th>0</th>\n",
       "      <td>humanresources</td>\n",
       "      <td>department</td>\n",
       "      <td>table</td>\n",
       "      <td>[departmentid, name, groupname, modifieddate]</td>\n",
       "      <td>[INTEGER, DOMAIN, DOMAIN, TIMESTAMP]</td>\n",
       "      <td>[True, False, False, False]</td>\n",
       "      <td>[False, False, False, False]</td>\n",
       "    </tr>\n",
       "    <tr>\n",
       "      <th>1</th>\n",
       "      <td>humanresources</td>\n",
       "      <td>shift</td>\n",
       "      <td>table</td>\n",
       "      <td>[shiftid, name, starttime, endtime, modifieddate]</td>\n",
       "      <td>[INTEGER, DOMAIN, TIME, TIME, TIMESTAMP]</td>\n",
       "      <td>[True, False, False, False, False]</td>\n",
       "      <td>[False, False, False, False, False]</td>\n",
       "    </tr>\n",
       "    <tr>\n",
       "      <th>2</th>\n",
       "      <td>humanresources</td>\n",
       "      <td>employeepayhistory</td>\n",
       "      <td>table</td>\n",
       "      <td>[businessentityid, ratechangedate, rate, payfr...</td>\n",
       "      <td>[INTEGER, TIMESTAMP, NUMERIC, SMALLINT, TIMEST...</td>\n",
       "      <td>[True, True, False, False, False]</td>\n",
       "      <td>[False, False, False, False, False]</td>\n",
       "    </tr>\n",
       "    <tr>\n",
       "      <th>3</th>\n",
       "      <td>humanresources</td>\n",
       "      <td>employee</td>\n",
       "      <td>table</td>\n",
       "      <td>[businessentityid, nationalidnumber, loginid, ...</td>\n",
       "      <td>[INTEGER, VARCHAR(15), VARCHAR(256), VARCHAR(5...</td>\n",
       "      <td>[True, False, False, False, False, False, Fals...</td>\n",
       "      <td>[False, False, False, False, False, False, Fal...</td>\n",
       "    </tr>\n",
       "    <tr>\n",
       "      <th>4</th>\n",
       "      <td>person</td>\n",
       "      <td>person</td>\n",
       "      <td>table</td>\n",
       "      <td>[businessentityid, persontype, namestyle, titl...</td>\n",
       "      <td>[INTEGER, CHAR(2), DOMAIN, VARCHAR(8), DOMAIN,...</td>\n",
       "      <td>[True, False, False, False, False, False, Fals...</td>\n",
       "      <td>[False, False, False, True, False, True, False...</td>\n",
       "    </tr>\n",
       "  </tbody>\n",
       "</table>\n",
       "</div>"
      ],
      "text/plain": [
       "     table_schema          table_name table_type  \\\n",
       "0  humanresources          department      table   \n",
       "1  humanresources               shift      table   \n",
       "2  humanresources  employeepayhistory      table   \n",
       "3  humanresources            employee      table   \n",
       "4          person              person      table   \n",
       "\n",
       "                                         column_name  \\\n",
       "0      [departmentid, name, groupname, modifieddate]   \n",
       "1  [shiftid, name, starttime, endtime, modifieddate]   \n",
       "2  [businessentityid, ratechangedate, rate, payfr...   \n",
       "3  [businessentityid, nationalidnumber, loginid, ...   \n",
       "4  [businessentityid, persontype, namestyle, titl...   \n",
       "\n",
       "                                           data_type  \\\n",
       "0               [INTEGER, DOMAIN, DOMAIN, TIMESTAMP]   \n",
       "1           [INTEGER, DOMAIN, TIME, TIME, TIMESTAMP]   \n",
       "2  [INTEGER, TIMESTAMP, NUMERIC, SMALLINT, TIMEST...   \n",
       "3  [INTEGER, VARCHAR(15), VARCHAR(256), VARCHAR(5...   \n",
       "4  [INTEGER, CHAR(2), DOMAIN, VARCHAR(8), DOMAIN,...   \n",
       "\n",
       "                                      is_primary_key  \\\n",
       "0                        [True, False, False, False]   \n",
       "1                 [True, False, False, False, False]   \n",
       "2                  [True, True, False, False, False]   \n",
       "3  [True, False, False, False, False, False, Fals...   \n",
       "4  [True, False, False, False, False, False, Fals...   \n",
       "\n",
       "                                         is_nullable  \n",
       "0                       [False, False, False, False]  \n",
       "1                [False, False, False, False, False]  \n",
       "2                [False, False, False, False, False]  \n",
       "3  [False, False, False, False, False, False, Fal...  \n",
       "4  [False, False, False, True, False, True, False...  "
      ]
     },
     "execution_count": 15,
     "metadata": {},
     "output_type": "execute_result"
    }
   ],
   "source": [
    "db_conn.set_curr_database('adventureworks')\n",
    "df_db_metadata = db_conn.get_metadata(refresh=True, exclude_system_tables=True)\n",
    "df_db_metadata.df_table_columns.head()"
   ]
  },
  {
   "cell_type": "code",
   "execution_count": 5,
   "metadata": {},
   "outputs": [
    {
     "name": "stdout",
     "output_type": "stream",
     "text": [
      "{'postgres': <db.DBMetadata object at 0x331599110>, 'sql_generator': <db.DBMetadata object at 0x33167f0d0>, 'dagster': <db.DBMetadata object at 0x3316d4590>, 'adventureworks': <db.DBMetadata object at 0x3317efb10>, 'dvdrental': <db.DBMetadata object at 0x330f1b150>}\n"
     ]
    }
   ],
   "source": [
    "db_metadata_all = {}\n",
    "\n",
    "for db_name in db_list:\n",
    "    db_conn.set_curr_database(db_name)\n",
    "    df_db_metadata = db_conn.get_metadata()\n",
    "    db_metadata_all[db_name] = df_db_metadata\n",
    "\n",
    "print(db_metadata_all)"
   ]
  },
  {
   "cell_type": "markdown",
   "metadata": {},
   "source": [
    "## Create Index in Fuzzy Search"
   ]
  },
  {
   "cell_type": "code",
   "execution_count": 4,
   "metadata": {},
   "outputs": [
    {
     "ename": "ModuleNotFoundError",
     "evalue": "No module named 'search'",
     "output_type": "error",
     "traceback": [
      "\u001b[0;31m---------------------------------------------------------------------------\u001b[0m",
      "\u001b[0;31mModuleNotFoundError\u001b[0m                       Traceback (most recent call last)",
      "Cell \u001b[0;32mIn[4], line 1\u001b[0m\n\u001b[0;32m----> 1\u001b[0m \u001b[38;5;28;01mimport\u001b[39;00m \u001b[38;5;21;01msearch\u001b[39;00m\n\u001b[1;32m      2\u001b[0m \u001b[38;5;28;01mimport\u001b[39;00m \u001b[38;5;21;01mdb\u001b[39;00m\n\u001b[1;32m      3\u001b[0m importlib\u001b[38;5;241m.\u001b[39mreload(search)\n",
      "\u001b[0;31mModuleNotFoundError\u001b[0m: No module named 'search'"
     ]
    }
   ],
   "source": [
    "import search\n",
    "import db\n",
    "importlib.reload(search)\n",
    "importlib.reload(db)\n",
    "from search import SearchFactory, SearchTypes\n",
    "db_conn1 = db.DBConnection(db_type='postgresql',\n",
    "                      db_name='sql_generator',\n",
    "                      db_host='localhost',\n",
    "                      db_port=os.environ['POSTGRES_L_PORT'], \n",
    "                      db_user=os.environ['POSTGRES_USER'] ,\n",
    "                      db_password=os.environ['POSTGRES_PASSWORD'],\n",
    "                      read_only=False)\n",
    "\n",
    "my_search = SearchFactory.get_search_provider(SearchTypes.FUZZY_SEARCH, db_conn=db_conn1)\n",
    "\n",
    "for key, value in db_metadata_all.items():\n",
    "    print(key)\n",
    "    my_search.create_index(key, value)\n",
    "    \n"
   ]
  },
  {
   "cell_type": "markdown",
   "metadata": {},
   "source": [
    "# Search in Database Metadata"
   ]
  },
  {
   "cell_type": "code",
   "execution_count": 8,
   "metadata": {},
   "outputs": [
    {
     "ename": "NameError",
     "evalue": "name 'db_conn1' is not defined",
     "output_type": "error",
     "traceback": [
      "\u001b[0;31m---------------------------------------------------------------------------\u001b[0m",
      "\u001b[0;31mNameError\u001b[0m                                 Traceback (most recent call last)",
      "Cell \u001b[0;32mIn[8], line 2\u001b[0m\n\u001b[1;32m      1\u001b[0m \u001b[38;5;66;03m# metadata = pickle.loads(db_conn1.load_file(\"adventureworks_table_columns.pkl\"))\u001b[39;00m\n\u001b[0;32m----> 2\u001b[0m metadata \u001b[38;5;241m=\u001b[39m pickle\u001b[38;5;241m.\u001b[39mloads(\u001b[43mdb_conn1\u001b[49m\u001b[38;5;241m.\u001b[39mload_file(\u001b[38;5;124m\"\u001b[39m\u001b[38;5;124mdvdrental_table_columns.pkl\u001b[39m\u001b[38;5;124m\"\u001b[39m))\n\u001b[1;32m      3\u001b[0m metadata\u001b[38;5;241m.\u001b[39mhead()\n",
      "\u001b[0;31mNameError\u001b[0m: name 'db_conn1' is not defined"
     ]
    }
   ],
   "source": [
    "# metadata = pickle.loads(db_conn1.load_file(\"adventureworks_table_columns.pkl\"))\n",
    "metadata = pickle.loads(db_conn1.load_file(\"dvdrental_table_columns.pkl\"))\n",
    "metadata.head()"
   ]
  },
  {
   "cell_type": "code",
   "execution_count": 9,
   "metadata": {},
   "outputs": [
    {
     "ename": "NameError",
     "evalue": "name 'my_search' is not defined",
     "output_type": "error",
     "traceback": [
      "\u001b[0;31m---------------------------------------------------------------------------\u001b[0m",
      "\u001b[0;31mNameError\u001b[0m                                 Traceback (most recent call last)",
      "Cell \u001b[0;32mIn[9], line 3\u001b[0m\n\u001b[1;32m      1\u001b[0m query \u001b[38;5;241m=\u001b[39m \u001b[38;5;124m\"\u001b[39m\u001b[38;5;124mWhat is the total revenue for top 5 cutomers?\u001b[39m\u001b[38;5;124m\"\u001b[39m\n\u001b[0;32m----> 3\u001b[0m test_result \u001b[38;5;241m=\u001b[39m \u001b[43mmy_search\u001b[49m\u001b[38;5;241m.\u001b[39msearch_by_query(db_name\u001b[38;5;241m=\u001b[39m\u001b[38;5;124m'\u001b[39m\u001b[38;5;124mdvdrental\u001b[39m\u001b[38;5;124m'\u001b[39m, query\u001b[38;5;241m=\u001b[39mquery, similarity_threshold\u001b[38;5;241m=\u001b[39m\u001b[38;5;241m80\u001b[39m, max_synonyms\u001b[38;5;241m=\u001b[39m\u001b[38;5;241m5\u001b[39m)\n\u001b[1;32m      6\u001b[0m \u001b[38;5;28mprint\u001b[39m(test_result)\n",
      "\u001b[0;31mNameError\u001b[0m: name 'my_search' is not defined"
     ]
    }
   ],
   "source": [
    "query = \"What is the total revenue for top 5 cutomers?\"\n",
    "\n",
    "test_result = my_search.search_by_query(db_name='dvdrental', query=query, similarity_threshold=80, max_synonyms=5)\n",
    "\n",
    "\n",
    "print(test_result)"
   ]
  },
  {
   "cell_type": "code",
   "execution_count": 10,
   "metadata": {},
   "outputs": [
    {
     "name": "stdout",
     "output_type": "stream",
     "text": [
      "['/Users/vrabinin/.pyenv/versions/3.11.10/lib/python311.zip', '/Users/vrabinin/.pyenv/versions/3.11.10/lib/python3.11', '/Users/vrabinin/.pyenv/versions/3.11.10/lib/python3.11/lib-dynload', '', '/Users/vrabinin/Documents/Github/llm-zoomcamp-capstone/.venv/lib/python3.11/site-packages', '/Users/vrabinin/Documents/Github/llm-zoomcamp-capstone/sql_generator']\n"
     ]
    }
   ],
   "source": [
    "print( sys.path)\n"
   ]
  },
  {
   "cell_type": "code",
   "execution_count": 11,
   "metadata": {},
   "outputs": [],
   "source": [
    "import db\n",
    "importlib.reload(db)\n",
    "from db import DBConnection\n",
    "\n",
    "db_meta = DBConnection(db_type='postgresql',\n",
    "                      db_name='dvdrental',\n",
    "                      db_host='localhost',\n",
    "                      \n",
    "                      db_port=os.environ['POSTGRES_L_PORT'], \n",
    "                      db_user=os.environ['POSTGRES_USER'] ,\n",
    "                      db_password=os.environ['POSTGRES_PASSWORD'])\n",
    "\n"
   ]
  },
  {
   "cell_type": "code",
   "execution_count": 12,
   "metadata": {},
   "outputs": [
    {
     "name": "stdout",
     "output_type": "stream",
     "text": [
      "['adventureworks', 'dvdrental']\n"
     ]
    }
   ],
   "source": [
    "print(db_meta.get_database_list())\n",
    "db_meta.set_curr_database('dvdrental')"
   ]
  },
  {
   "cell_type": "markdown",
   "metadata": {},
   "source": [
    "# RAG Flow"
   ]
  },
  {
   "cell_type": "code",
   "execution_count": 13,
   "metadata": {},
   "outputs": [
    {
     "name": "stdout",
     "output_type": "stream",
     "text": [
      "['OpenAI: gpt-4o-mini', 'OpenAI: gpt-3.5-turbo', 'TBD: tbd']\n",
      "../sql_generator/templates\n"
     ]
    }
   ],
   "source": [
    "import llm\n",
    "reimport_all()\n",
    "\n",
    "from llm import LLM, PromptGenerator\n",
    "template_path = '../sql_generator/templates'\n",
    "config_path = os.path.normpath(os.path.abspath(os.path.join(os.getcwd(), os.path.pardir, 'sql_generator/config/llm.yaml')))\n",
    "pg = PromptGenerator(template_path)\n",
    "\n",
    "my_llm = LLM(config_path)\n",
    "models = my_llm.get_model_list()\n",
    "print(models)\n",
    "print(template_path)\n"
   ]
  },
  {
   "cell_type": "code",
   "execution_count": 14,
   "metadata": {},
   "outputs": [],
   "source": [
    "import db\n",
    "importlib.reload(db)\n",
    "from db import DBConnection\n",
    "db_conn = DBConnection(\\\n",
    "        db_type='postgresql',\n",
    "        db_name = os.environ['POSTGRES_DB'],\n",
    "        db_host='localhost',\n",
    "        db_port = os.environ['POSTGRES_L_PORT'], \n",
    "        db_user = os.environ['POSTGRES_USER'] ,\n",
    "        db_password = os.environ['POSTGRES_PASSWORD']\n",
    "    )"
   ]
  },
  {
   "cell_type": "code",
   "execution_count": 28,
   "metadata": {},
   "outputs": [],
   "source": [
    "import search\n",
    "importlib.reload(search)\n",
    "importlib.reload(db)\n",
    "from search import SearchFactory, SearchTypes\n",
    "my_search = SearchFactory.get_search_provider(SearchTypes.FUZZY_SEARCH, db_conn=db_conn)\n"
   ]
  },
  {
   "cell_type": "code",
   "execution_count": 29,
   "metadata": {},
   "outputs": [],
   "source": [
    "\n",
    "#query = \"What is the total revenue for top 5 cutomers?\"\n",
    "\n",
    "query = \"What were the most popular films in July 2005?\"\n",
    "#query = \"Are semicolons optional in JavaScript?\"\n",
    "\n",
    "\n",
    "#query = \"Show me actor's first_name, last_name that have Nick, Ed and Jennifer as their firstnames\""
   ]
  },
  {
   "cell_type": "code",
   "execution_count": 30,
   "metadata": {},
   "outputs": [
    {
     "name": "stdout",
     "output_type": "stream",
     "text": [
      "Loading metadata for adventureworks\n",
      "Empty DataFrame\n",
      "Columns: [table_name, column_name]\n",
      "Index: []\n"
     ]
    }
   ],
   "source": [
    "discovered_tables = my_search.search_by_query(db_name='adventureworks', query=query, similarity_threshold=80, max_synonyms=5)\n",
    "print(discovered_tables)\n"
   ]
  },
  {
   "cell_type": "code",
   "execution_count": 44,
   "metadata": {},
   "outputs": [
    {
     "name": "stdout",
     "output_type": "stream",
     "text": [
      "Here is a database schema: \n",
      "{schema}\n",
      "  Please write me a syntactically correct SQL statement that answers the following question: {instruction}\n",
      "  It is not necessary to use all the tables. Use tag <SQL> to wrap the SQL statement.\n"
     ]
    }
   ],
   "source": [
    "prompt = pg.get_prompt(template_name='basic_prompt', schema=discovered_tables, instruction=query)\n",
    "#print(prompt)"
   ]
  },
  {
   "cell_type": "code",
   "execution_count": 45,
   "metadata": {},
   "outputs": [
    {
     "name": "stdout",
     "output_type": "stream",
     "text": [
      "gpt-4o-miniHere is a database schema: \n",
      "Empty DataFrame\n",
      "Columns: [table_schema, table_name, table_type, column_name, data_type, is_primary_key, is_nullable]\n",
      "Index: []\n",
      "  Please write me a syntactically correct SQL statement that answers the following question: What were the most popular films in July 2005?\n",
      "  It is not necessary to use all the tables. Use tag <SQL> to wrap the SQL statement.\n"
     ]
    }
   ],
   "source": [
    "response = my_llm.prompt(models[0], prompt)\n",
    "#print(response)"
   ]
  },
  {
   "cell_type": "code",
   "execution_count": 42,
   "metadata": {},
   "outputs": [
    {
     "ename": "NameError",
     "evalue": "name 'related_tables' is not defined",
     "output_type": "error",
     "traceback": [
      "\u001b[0;31m---------------------------------------------------------------------------\u001b[0m",
      "\u001b[0;31mNameError\u001b[0m                                 Traceback (most recent call last)",
      "Cell \u001b[0;32mIn[42], line 2\u001b[0m\n\u001b[1;32m      1\u001b[0m \u001b[38;5;28;01mimport\u001b[39;00m \u001b[38;5;21;01mre\u001b[39;00m\n\u001b[0;32m----> 2\u001b[0m response \u001b[38;5;241m=\u001b[39m llm\u001b[38;5;241m.\u001b[39mrag_query(query, \u001b[43mrelated_tables\u001b[49m, idx_minsearch)\n\u001b[1;32m      3\u001b[0m \u001b[38;5;28mprint\u001b[39m(response)\n\u001b[1;32m      4\u001b[0m sql_pattern \u001b[38;5;241m=\u001b[39m \u001b[38;5;124mr\u001b[39m\u001b[38;5;124m\"\u001b[39m\u001b[38;5;124m<SQL>([\u001b[39m\u001b[38;5;124m\\\u001b[39m\u001b[38;5;124ms\u001b[39m\u001b[38;5;124m\\\u001b[39m\u001b[38;5;124mS]*?)(?=<\u001b[39m\u001b[38;5;124m\\\u001b[39m\u001b[38;5;124m/SQL>)\u001b[39m\u001b[38;5;124m\"\u001b[39m\n",
      "\u001b[0;31mNameError\u001b[0m: name 'related_tables' is not defined"
     ]
    }
   ],
   "source": [
    "import re\n",
    "response = my_llm.rag_query(query, related_tables, idx_minsearch)\n",
    "print(response)\n",
    "sql_pattern = r\"<SQL>([\\s\\S]*?)(?=<\\/SQL>)\"\n",
    "sql = str(re.search(sql_pattern, response).group(1)).strip()\n",
    "print(sql)"
   ]
  },
  {
   "cell_type": "code",
   "execution_count": 14,
   "metadata": {},
   "outputs": [],
   "source": [
    "from openai import OpenAI    \n",
    "llm = OpenAI(api_key=os.environ['OPENAI_API_KEY'])\n",
    "response = llm.chat.completions.create(\n",
    "    model='gpt-4o-mini',\n",
    "    messages=[\n",
    "            #{\n",
    "            #    \"role\": \"system\",\n",
    "            #    \"content\": \"You are a helpful assistant.\"\n",
    "            #},\n",
    "            {\"role\": \"user\", \"content\": query}\n",
    "        ],\n",
    "        stream=False\n",
    "        )"
   ]
  },
  {
   "cell_type": "code",
   "execution_count": 15,
   "metadata": {},
   "outputs": [
    {
     "name": "stdout",
     "output_type": "stream",
     "text": [
      "Yes, semicolons are technically optional in JavaScript due to a feature called Automatic Semicolon Insertion (ASI). JavaScript interpreters automatically insert semicolons in certain situations where they are omitted, which can help prevent errors in many cases.\n",
      "\n",
      "However, relying on ASI can lead to unexpected behavior and hard-to-debug issues. Here are some important points to consider:\n",
      "\n",
      "1. **When ASI Works**: In many cases, ASI will correctly insert semicolons for you. For example:\n",
      "   ```javascript\n",
      "   let a = 5\n",
      "   let b = 10\n",
      "   console.log(a + b) // ASI inserts semicolons here\n",
      "   ```\n",
      "\n",
      "2. **Potential Pitfalls**: There are scenarios where ASI can lead to unexpected results:\n",
      "   ```javascript\n",
      "   function example() {\n",
      "       return\n",
      "       {\n",
      "           key: 'value'\n",
      "       }\n",
      "   }\n",
      "   ```\n",
      "   In this case, the `return` statement will be interpreted as `return;` (returning `undefined`) because of a newline after `return`.\n",
      "\n",
      "3. **Best Practices**: It is generally recommended to use semicolons consistently to avoid confusion and possible errors. Many developers prefer the clarity that explicit semicolons provide, and many style guides endorse their use (e.g., Airbnb JavaScript Style Guide).\n",
      "\n",
      "In summary, while semicolons are optional in JavaScript due to ASI, using them consistently can help you write clearer and more reliable code.\n"
     ]
    }
   ],
   "source": [
    "print(response.choices[0].message.content)"
   ]
  }
 ],
 "metadata": {
  "kernelspec": {
   "display_name": ".venv",
   "language": "python",
   "name": "python3"
  },
  "language_info": {
   "codemirror_mode": {
    "name": "ipython",
    "version": 3
   },
   "file_extension": ".py",
   "mimetype": "text/x-python",
   "name": "python",
   "nbconvert_exporter": "python",
   "pygments_lexer": "ipython3",
   "version": "3.11.10"
  }
 },
 "nbformat": 4,
 "nbformat_minor": 2
}
