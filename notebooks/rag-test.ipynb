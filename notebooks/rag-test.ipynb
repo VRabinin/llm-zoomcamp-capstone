{
 "cells": [
  {
   "cell_type": "markdown",
   "metadata": {},
   "source": [
    "# Imports"
   ]
  },
  {
   "cell_type": "code",
   "execution_count": 64,
   "metadata": {},
   "outputs": [],
   "source": [
    "import sys, os, importlib\n",
    "path2add = os.path.normpath(os.path.abspath(os.path.join(os.getcwd(), os.path.pardir, 'sql_generator')))\n",
    "#if (not (path2add in sys.path)) :\n",
    "#    sys.path.append(path2add)\n",
    "\n",
    "os.chdir(path2add)\n",
    "\n",
    "import index_util, llm_util, db_util\n",
    "importlib.reload(index_util)\n",
    "importlib.reload(llm_util)\n",
    "importlib.reload(db_util)\n",
    "from index_util import Index\n",
    "from llm_util import LLM, PromptFactory\n",
    "from db_util import DBMetadata"
   ]
  },
  {
   "cell_type": "markdown",
   "metadata": {},
   "source": [
    "# Index Data"
   ]
  },
  {
   "cell_type": "code",
   "execution_count": 7,
   "metadata": {},
   "outputs": [
    {
     "name": "stdout",
     "output_type": "stream",
     "text": [
      "184206\n"
     ]
    }
   ],
   "source": [
    "data_path = os.getenv(\"DATA_PATH\", \"../data/rag_dataset\")\n",
    "idx_minsearch = Index(data_path, \"minsearch\")\n",
    "print(len(idx_minsearch.index.docs))"
   ]
  },
  {
   "cell_type": "code",
   "execution_count": 30,
   "metadata": {},
   "outputs": [
    {
     "name": "stdout",
     "output_type": "stream",
     "text": [
      "[{'keyword': 'DUMMY', 'instruction': 'Find the total revenue for each manufacturer.It is not neccessary to use all the tables.', 'schema': 'manufacturers:  (name [ VARCHAR ] revenue [ INTEGER) ]', 'output': 'SELECT SUM(revenue), name FROM manufacturers GROUP BY name', '__index_level_0__': 88709}, {'keyword': 'DUMMY', 'instruction': 'Find the total revenue of companies whose revenue is larger than the revenue of some companies based in Austin.It is not neccessary to use all the tables.', 'schema': 'manufacturers:  (revenue [ INTEGER ] headquarter [ VARCHAR) ]', 'output': \"SELECT SUM(revenue) FROM manufacturers WHERE revenue > (SELECT MIN(revenue) FROM manufacturers WHERE headquarter = 'Austin')\", '__index_level_0__': 97228}, {'keyword': 'DUMMY', 'instruction': 'Name the total number of top 10 with top 25 less than 2 and top 5 more than 0.It is not neccessary to use all the tables.', 'schema': ':  Tournament [ text ] Wins [ real ] Top-5 [ real ] Top-10 [ real ] Top-25 [ real ] Events [ real ] Cuts made [ real ]', 'output': 'SELECT COUNT Top-10 FROM table WHERE Top-25 < 2 AND Top-5 > 0', '__index_level_0__': 123649}, {'keyword': 'DUMMY', 'instruction': 'Find the name of companies whose revenue is greater than the average revenue of all companies.It is not neccessary to use all the tables.', 'schema': 'manufacturers:  name [ VARCHAR]  revenue [ INTEGER]', 'output': 'SELECT name FROM manufacturers WHERE revenue > (SELECT AVG(revenue) FROM manufacturers)', '__index_level_0__': 2398}, {'keyword': 'DUMMY', 'instruction': 'Find the name of companies whose revenue is greater than the average revenue of all companies.It is not neccessary to use all the tables.', 'schema': 'manufacturers:  (name [ VARCHAR ] revenue [ INTEGER) ]', 'output': 'SELECT name FROM manufacturers WHERE revenue > (SELECT AVG(revenue) FROM manufacturers)', '__index_level_0__': 54766}]\n"
     ]
    }
   ],
   "source": [
    "query = \"What is total revenue for top 5 cutomers?\"\n",
    "\n",
    "results = idx_minsearch.search(query, 5)\n",
    "print(results)\n"
   ]
  },
  {
   "cell_type": "markdown",
   "metadata": {},
   "source": [
    "# RAG Flow"
   ]
  },
  {
   "cell_type": "code",
   "execution_count": 40,
   "metadata": {},
   "outputs": [],
   "source": [
    "pf = PromptFactory()\n",
    "llm = LLM('openai', 'gpt-4o-mini', api_key=os.getenv(\"OPENAI_API_KEY\"))"
   ]
  },
  {
   "cell_type": "code",
   "execution_count": 31,
   "metadata": {},
   "outputs": [
    {
     "name": "stdout",
     "output_type": "stream",
     "text": [
      "Here is a database schema: test_schema\n",
      "  Please write me a syntactically correct SQL statement that answers the following question: test_instruction\n"
     ]
    }
   ],
   "source": [
    "prompt = pf.get_prompt(\"basic_prompt\", schema='test_schema', instruction='test_instruction')\n",
    "print(prompt)"
   ]
  },
  {
   "cell_type": "code",
   "execution_count": 34,
   "metadata": {},
   "outputs": [
    {
     "name": "stdout",
     "output_type": "stream",
     "text": [
      "To provide you with a syntactically correct SQL statement, I need to know the specific question (test_instruction) you want to answer with the database schema \"test_schema.\" Please provide the details of the question or instruction you have in mind.\n"
     ]
    }
   ],
   "source": [
    "response = llm.query(prompt)\n",
    "print(response)"
   ]
  },
  {
   "cell_type": "code",
   "execution_count": 41,
   "metadata": {},
   "outputs": [
    {
     "name": "stdout",
     "output_type": "stream",
     "text": [
      "To write a SQL statement that calculates the total revenue for the top 5 customers, we need to assume a structure for the tables involved in your `test_schema`. Let's assume you have a `customers` table and an `orders` table, where the `orders` table contains the revenue for each order along with a reference to the customer.\n",
      "\n",
      "Here's a generic SQL statement that would compute the total revenue for the top 5 customers based on their total revenue:\n",
      "\n",
      "```sql\n",
      "SELECT \n",
      "    c.customer_id,\n",
      "    c.customer_name,\n",
      "    SUM(o.revenue) AS total_revenue\n",
      "FROM \n",
      "    test_schema.customers c\n",
      "JOIN \n",
      "    test_schema.orders o ON c.customer_id = o.customer_id\n",
      "GROUP BY \n",
      "    c.customer_id, c.customer_name\n",
      "ORDER BY \n",
      "    total_revenue DESC\n",
      "LIMIT 5;\n",
      "```\n",
      "\n",
      "### Explanation:\n",
      "- `c.customer_id` and `c.customer_name`: Selecting the customer ID and name from the customers table.\n",
      "- `SUM(o.revenue) AS total_revenue`: Calculating the total revenue for each customer by summing their order revenues.\n",
      "- `JOIN`: Joining the `customers` table with the `orders` table on the `customer_id`.\n",
      "- `GROUP BY`: Grouping the results by customer to aggregate the revenue.\n",
      "- `ORDER BY total_revenue DESC`: Ordering the results by total revenue in descending order to get the top customers.\n",
      "- `LIMIT 5`: Limiting the results to the top 5 customers by total revenue.\n",
      "\n",
      "Make sure to adjust the column names and table references according to your actual database schema.\n"
     ]
    }
   ],
   "source": [
    "result = llm.rag_query(query, 'test_schema', idx_minsearch)\n",
    "print(result)"
   ]
  },
  {
   "cell_type": "code",
   "execution_count": 70,
   "metadata": {},
   "outputs": [],
   "source": [
    "importlib.reload(db_util)\n",
    "from db_util import DBMetadata\n",
    "\n",
    "db_meta = DBMetadata('postgres',\n",
    "                      'dvdrental',\n",
    "                      'localhost',\n",
    "                      os.environ['POSTGRES_PORT'], \n",
    "                      os.environ['POSTGRES_USER'] ,\n",
    "                      os.environ['POSTGRES_PASSWORD'])\n",
    "\n"
   ]
  },
  {
   "cell_type": "code",
   "execution_count": 71,
   "metadata": {},
   "outputs": [
    {
     "name": "stdout",
     "output_type": "stream",
     "text": [
      "  table_name                                        column_name\n",
      "8       film  [description, film_id, fulltext, language_id, ...\n"
     ]
    }
   ],
   "source": [
    "test_result = db_meta.search_metadata(['customer'])\n",
    "print(test_result)"
   ]
  },
  {
   "cell_type": "code",
   "execution_count": null,
   "metadata": {},
   "outputs": [],
   "source": []
  }
 ],
 "metadata": {
  "kernelspec": {
   "display_name": ".venv",
   "language": "python",
   "name": "python3"
  },
  "language_info": {
   "codemirror_mode": {
    "name": "ipython",
    "version": 3
   },
   "file_extension": ".py",
   "mimetype": "text/x-python",
   "name": "python",
   "nbconvert_exporter": "python",
   "pygments_lexer": "ipython3",
   "version": "3.11.10"
  }
 },
 "nbformat": 4,
 "nbformat_minor": 2
}
