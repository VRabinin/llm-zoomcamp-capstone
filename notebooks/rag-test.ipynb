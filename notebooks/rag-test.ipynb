{
 "cells": [
  {
   "cell_type": "markdown",
   "metadata": {},
   "source": [
    "# Imports"
   ]
  },
  {
   "cell_type": "code",
   "execution_count": 29,
   "metadata": {},
   "outputs": [],
   "source": [
    "import sys, os, importlib, pickle\n",
    "\n",
    "path2add = os.path.normpath(os.path.abspath(os.path.join(os.getcwd(), os.path.pardir, 'sql_generator')))\n",
    "\n",
    "if (not (path2add in sys.path)) :\n",
    "    sys.path.append(path2add)\n",
    "\n",
    "#print(path2add)\n",
    "\n",
    "#import index\n",
    "#import llm\n",
    "#import db\n",
    "#import util\n",
    "\n",
    "from index import Index\n",
    "from llm import LLM, PromptGenerator\n"
   ]
  },
  {
   "cell_type": "code",
   "execution_count": 30,
   "metadata": {},
   "outputs": [],
   "source": [
    "def reimport_all():\n",
    "    import index\n",
    "    import llm\n",
    "    import db\n",
    "    import util\n",
    "    importlib.reload(index)\n",
    "    importlib.reload(llm)\n",
    "    importlib.reload(db)\n",
    "    importlib.reload(util)"
   ]
  },
  {
   "cell_type": "markdown",
   "metadata": {},
   "source": [
    "# Index Data"
   ]
  },
  {
   "cell_type": "markdown",
   "metadata": {},
   "source": [
    "## Extract DB Metadata"
   ]
  },
  {
   "cell_type": "code",
   "execution_count": 31,
   "metadata": {},
   "outputs": [
    {
     "name": "stdout",
     "output_type": "stream",
     "text": [
      "['adventureworks', 'dvdrental']\n"
     ]
    }
   ],
   "source": [
    "\n",
    "import db\n",
    "importlib.reload(db)\n",
    "from db import DBConnectionFactory\n",
    "\n",
    "db_conn = DBConnectionFactory.get_db_connection(db_type='postgres',\n",
    "                      db_name='dvdrental',\n",
    "                      db_host='localhost',\n",
    "                      db_port=os.environ['POSTGRES_L_PORT'], \n",
    "                      db_user=os.environ['POSTGRES_USER'] ,\n",
    "                      db_password=os.environ['POSTGRES_PASSWORD'])\n",
    "db_list = db_conn.get_database_list()\n",
    "print(db_list)\n",
    "\n"
   ]
  },
  {
   "cell_type": "code",
   "execution_count": 32,
   "metadata": {},
   "outputs": [
    {
     "name": "stdout",
     "output_type": "stream",
     "text": [
      "{'adventureworks': <db.DBMetadata object at 0x336d1a210>, 'dvdrental': <db.DBMetadata object at 0x336fcbd10>}\n"
     ]
    }
   ],
   "source": [
    "db_metadata_all = {}\n",
    "\n",
    "for db_name in db_list:\n",
    "    db_conn.set_curr_database(db_name)\n",
    "    df_db_metadata = db_conn.get_metadata()\n",
    "    db_metadata_all[db_name] = df_db_metadata\n",
    "\n",
    "print(db_metadata_all)"
   ]
  },
  {
   "cell_type": "markdown",
   "metadata": {},
   "source": [
    "## Create Index in Fuzzy Search"
   ]
  },
  {
   "cell_type": "code",
   "execution_count": 40,
   "metadata": {},
   "outputs": [
    {
     "name": "stdout",
     "output_type": "stream",
     "text": [
      "adventureworks\n",
      "dvdrental\n"
     ]
    }
   ],
   "source": [
    "import search\n",
    "importlib.reload(search)\n",
    "importlib.reload(db)\n",
    "from search import SearchFactory, SearchTypes\n",
    "db_conn1 = DBConnectionFactory.get_db_connection(db_type='postgres',\n",
    "                      db_name='sql_generator',\n",
    "                      db_host='localhost',\n",
    "                      db_port=os.environ['POSTGRES_L_PORT'], \n",
    "                      db_user=os.environ['POSTGRES_USER'] ,\n",
    "                      db_password=os.environ['POSTGRES_PASSWORD'],\n",
    "                      read_only=False)\n",
    "\n",
    "my_search = SearchFactory.get_search_provider(SearchTypes.FUZZY_SEARCH, db_conn=db_conn1)\n",
    "\n",
    "for key, value in db_metadata_all.items():\n",
    "    print(key)\n",
    "    my_search.create_index(key, value)\n",
    "    \n"
   ]
  },
  {
   "cell_type": "markdown",
   "metadata": {},
   "source": [
    "# Search in Database Metadata"
   ]
  },
  {
   "cell_type": "code",
   "execution_count": 41,
   "metadata": {},
   "outputs": [
    {
     "name": "stdout",
     "output_type": "stream",
     "text": [
      "<memory at 0x341bb2c80>\n"
     ]
    },
    {
     "data": {
      "text/html": [
       "<div>\n",
       "<style scoped>\n",
       "    .dataframe tbody tr th:only-of-type {\n",
       "        vertical-align: middle;\n",
       "    }\n",
       "\n",
       "    .dataframe tbody tr th {\n",
       "        vertical-align: top;\n",
       "    }\n",
       "\n",
       "    .dataframe thead th {\n",
       "        text-align: right;\n",
       "    }\n",
       "</style>\n",
       "<table border=\"1\" class=\"dataframe\">\n",
       "  <thead>\n",
       "    <tr style=\"text-align: right;\">\n",
       "      <th></th>\n",
       "      <th>table_name</th>\n",
       "      <th>column_name</th>\n",
       "    </tr>\n",
       "  </thead>\n",
       "  <tbody>\n",
       "    <tr>\n",
       "      <th>0</th>\n",
       "      <td>hr.d</td>\n",
       "      <td>[departmentid, groupname, id, modifieddate, name]</td>\n",
       "    </tr>\n",
       "    <tr>\n",
       "      <th>1</th>\n",
       "      <td>hr.e</td>\n",
       "      <td>[birthdate, businessentityid, currentflag, gen...</td>\n",
       "    </tr>\n",
       "    <tr>\n",
       "      <th>2</th>\n",
       "      <td>hr.edh</td>\n",
       "      <td>[businessentityid, departmentid, enddate, id, ...</td>\n",
       "    </tr>\n",
       "    <tr>\n",
       "      <th>3</th>\n",
       "      <td>hr.eph</td>\n",
       "      <td>[businessentityid, id, modifieddate, payfreque...</td>\n",
       "    </tr>\n",
       "    <tr>\n",
       "      <th>4</th>\n",
       "      <td>hr.jc</td>\n",
       "      <td>[businessentityid, id, jobcandidateid, modifie...</td>\n",
       "    </tr>\n",
       "  </tbody>\n",
       "</table>\n",
       "</div>"
      ],
      "text/plain": [
       "  table_name                                        column_name\n",
       "0       hr.d  [departmentid, groupname, id, modifieddate, name]\n",
       "1       hr.e  [birthdate, businessentityid, currentflag, gen...\n",
       "2     hr.edh  [businessentityid, departmentid, enddate, id, ...\n",
       "3     hr.eph  [businessentityid, id, modifieddate, payfreque...\n",
       "4      hr.jc  [businessentityid, id, jobcandidateid, modifie..."
      ]
     },
     "execution_count": 41,
     "metadata": {},
     "output_type": "execute_result"
    }
   ],
   "source": [
    "df_metadata = pickle.loads(db_conn1.load_file(\"adventureworks_table_columns.pkl\"))\n",
    "\n",
    "df_metadata.head()"
   ]
  },
  {
   "cell_type": "code",
   "execution_count": 42,
   "metadata": {},
   "outputs": [
    {
     "name": "stdout",
     "output_type": "stream",
     "text": [
      "/Users/vrabinin/Documents/Github/llm-zoomcamp-capstone/notebooks\n"
     ]
    },
    {
     "ename": "FileNotFoundError",
     "evalue": "[Errno 2] No such file or directory: 'config/preprocessor.yaml'",
     "output_type": "error",
     "traceback": [
      "\u001b[0;31m---------------------------------------------------------------------------\u001b[0m",
      "\u001b[0;31mFileNotFoundError\u001b[0m                         Traceback (most recent call last)",
      "Cell \u001b[0;32mIn[42], line 3\u001b[0m\n\u001b[1;32m      1\u001b[0m query \u001b[38;5;241m=\u001b[39m \u001b[38;5;124m\"\u001b[39m\u001b[38;5;124mWhat is the total revenue for top 5 cutomers?\u001b[39m\u001b[38;5;124m\"\u001b[39m\n\u001b[0;32m----> 3\u001b[0m test_result \u001b[38;5;241m=\u001b[39m \u001b[43mmy_search\u001b[49m\u001b[38;5;241;43m.\u001b[39;49m\u001b[43msearch_by_query\u001b[49m\u001b[43m(\u001b[49m\u001b[43mdb_name\u001b[49m\u001b[38;5;241;43m=\u001b[39;49m\u001b[38;5;124;43m'\u001b[39;49m\u001b[38;5;124;43mdvdrental\u001b[39;49m\u001b[38;5;124;43m'\u001b[39;49m\u001b[43m,\u001b[49m\u001b[43m \u001b[49m\u001b[43mquery\u001b[49m\u001b[38;5;241;43m=\u001b[39;49m\u001b[43mquery\u001b[49m\u001b[43m,\u001b[49m\u001b[43m \u001b[49m\u001b[43msimilarity_threshold\u001b[49m\u001b[38;5;241;43m=\u001b[39;49m\u001b[38;5;241;43m80\u001b[39;49m\u001b[43m,\u001b[49m\u001b[43m \u001b[49m\u001b[43mmax_synonyms\u001b[49m\u001b[38;5;241;43m=\u001b[39;49m\u001b[38;5;241;43m5\u001b[39;49m\u001b[43m)\u001b[49m\n\u001b[1;32m      6\u001b[0m \u001b[38;5;28mprint\u001b[39m(test_result)\n",
      "File \u001b[0;32m~/Documents/Github/llm-zoomcamp-capstone/sql_generator/search.py:57\u001b[0m, in \u001b[0;36mFuzzySearch.search_by_query\u001b[0;34m(self, db_name, query, **kwards)\u001b[0m\n\u001b[1;32m     55\u001b[0m \u001b[38;5;28;01mdef\u001b[39;00m \u001b[38;5;21msearch_by_query\u001b[39m(\u001b[38;5;28mself\u001b[39m, db_name, query: \u001b[38;5;28mstr\u001b[39m, \u001b[38;5;241m*\u001b[39m\u001b[38;5;241m*\u001b[39mkwards):\n\u001b[1;32m     56\u001b[0m     \u001b[38;5;28;01mif\u001b[39;00m \u001b[38;5;28mself\u001b[39m\u001b[38;5;241m.\u001b[39mpre_processor \u001b[38;5;129;01mis\u001b[39;00m \u001b[38;5;28;01mNone\u001b[39;00m:\n\u001b[0;32m---> 57\u001b[0m         \u001b[38;5;28;01mimport\u001b[39;00m \u001b[38;5;21;01mpreprocessor\u001b[39;00m\n\u001b[1;32m     58\u001b[0m         \u001b[38;5;28;01mfrom\u001b[39;00m \u001b[38;5;21;01mpreprocessor\u001b[39;00m \u001b[38;5;28;01mimport\u001b[39;00m pre_processor\n\u001b[1;32m     59\u001b[0m         \u001b[38;5;28mself\u001b[39m\u001b[38;5;241m.\u001b[39mpre_processor \u001b[38;5;241m=\u001b[39m pre_processor\n",
      "File \u001b[0;32m~/Documents/Github/llm-zoomcamp-capstone/sql_generator/preprocessor.py:72\u001b[0m\n\u001b[1;32m     69\u001b[0m         keywords_final \u001b[38;5;241m=\u001b[39m \u001b[38;5;28mlist\u001b[39m(\u001b[38;5;28mset\u001b[39m(keywords_final))\n\u001b[1;32m     70\u001b[0m         \u001b[38;5;28;01mreturn\u001b[39;00m keywords_final\n\u001b[0;32m---> 72\u001b[0m pre_processor \u001b[38;5;241m=\u001b[39m \u001b[43mPreProcessor\u001b[49m\u001b[43m(\u001b[49m\u001b[43mPREPROCESSOR_CONFIG_PATH\u001b[49m\u001b[43m)\u001b[49m\n",
      "File \u001b[0;32m~/Documents/Github/llm-zoomcamp-capstone/sql_generator/preprocessor.py:21\u001b[0m, in \u001b[0;36mPreProcessor.__init__\u001b[0;34m(self, config_path)\u001b[0m\n\u001b[1;32m     19\u001b[0m \u001b[38;5;28;01mdef\u001b[39;00m \u001b[38;5;21m__init__\u001b[39m(\u001b[38;5;28mself\u001b[39m, config_path\u001b[38;5;241m=\u001b[39mPREPROCESSOR_CONFIG_PATH):\n\u001b[1;32m     20\u001b[0m     \u001b[38;5;28mprint\u001b[39m(os\u001b[38;5;241m.\u001b[39mgetcwd())\n\u001b[0;32m---> 21\u001b[0m     pp_config \u001b[38;5;241m=\u001b[39m \u001b[43mutil\u001b[49m\u001b[38;5;241;43m.\u001b[39;49m\u001b[43mload_yaml_config\u001b[49m\u001b[43m(\u001b[49m\u001b[43mconfig_path\u001b[49m\u001b[43m)\u001b[49m\n\u001b[1;32m     22\u001b[0m     \u001b[38;5;28mself\u001b[39m\u001b[38;5;241m.\u001b[39mmodels \u001b[38;5;241m=\u001b[39m []\n\u001b[1;32m     23\u001b[0m     \u001b[38;5;28;01mfor\u001b[39;00m model \u001b[38;5;129;01min\u001b[39;00m pp_config[\u001b[38;5;124m'\u001b[39m\u001b[38;5;124mgensim_models\u001b[39m\u001b[38;5;124m'\u001b[39m]:\n",
      "File \u001b[0;32m~/Documents/Github/llm-zoomcamp-capstone/sql_generator/util.py:18\u001b[0m, in \u001b[0;36mUtil.load_yaml_config\u001b[0;34m(yaml_file_path)\u001b[0m\n\u001b[1;32m     16\u001b[0m yaml\u001b[38;5;241m.\u001b[39madd_implicit_resolver(\u001b[38;5;124m'\u001b[39m\u001b[38;5;124m!path\u001b[39m\u001b[38;5;124m'\u001b[39m, path_matcher)\n\u001b[1;32m     17\u001b[0m yaml\u001b[38;5;241m.\u001b[39madd_constructor(\u001b[38;5;124m'\u001b[39m\u001b[38;5;124m!path\u001b[39m\u001b[38;5;124m'\u001b[39m, Util\u001b[38;5;241m.\u001b[39m__path_constructor)\n\u001b[0;32m---> 18\u001b[0m \u001b[38;5;28;01mwith\u001b[39;00m \u001b[38;5;28;43mopen\u001b[39;49m\u001b[43m(\u001b[49m\u001b[43myaml_file_path\u001b[49m\u001b[43m,\u001b[49m\u001b[43m \u001b[49m\u001b[38;5;124;43m'\u001b[39;49m\u001b[38;5;124;43mr\u001b[39;49m\u001b[38;5;124;43m'\u001b[39;49m\u001b[43m)\u001b[49m \u001b[38;5;28;01mas\u001b[39;00m file:\n\u001b[1;32m     20\u001b[0m     \u001b[38;5;28;01mreturn\u001b[39;00m yaml\u001b[38;5;241m.\u001b[39mload(file, Loader\u001b[38;5;241m=\u001b[39myaml\u001b[38;5;241m.\u001b[39mFullLoader)\n",
      "\u001b[0;31mFileNotFoundError\u001b[0m: [Errno 2] No such file or directory: 'config/preprocessor.yaml'"
     ]
    }
   ],
   "source": [
    "query = \"What is the total revenue for top 5 cutomers?\"\n",
    "\n",
    "test_result = my_search.search_by_query(db_name='dvdrental', query=query, similarity_threshold=80, max_synonyms=5)\n",
    "\n",
    "\n",
    "print(test_result)"
   ]
  },
  {
   "cell_type": "code",
   "execution_count": 39,
   "metadata": {},
   "outputs": [
    {
     "name": "stdout",
     "output_type": "stream",
     "text": [
      "['/Users/vrabinin/.pyenv/versions/3.11.10/lib/python311.zip', '/Users/vrabinin/.pyenv/versions/3.11.10/lib/python3.11', '/Users/vrabinin/.pyenv/versions/3.11.10/lib/python3.11/lib-dynload', '', '/Users/vrabinin/Documents/Github/llm-zoomcamp-capstone/.venv/lib/python3.11/site-packages', '/Users/vrabinin/Documents/Github/llm-zoomcamp-capstone/sql_generator']\n"
     ]
    }
   ],
   "source": [
    "print( sys.path)\n"
   ]
  },
  {
   "cell_type": "code",
   "execution_count": 26,
   "metadata": {},
   "outputs": [],
   "source": [
    "import db\n",
    "importlib.reload(db)\n",
    "from db import DBConnectionFactory\n",
    "\n",
    "db_meta = DBConnectionFactory.get_db_connection(db_type='postgres',\n",
    "                      db_name='dvdrental',\n",
    "                      db_host='localhost',\n",
    "                      \n",
    "                      db_port=os.environ['POSTGRES_L_PORT'], \n",
    "                      db_user=os.environ['POSTGRES_USER'] ,\n",
    "                      db_password=os.environ['POSTGRES_PASSWORD'])\n",
    "\n"
   ]
  },
  {
   "cell_type": "code",
   "execution_count": 27,
   "metadata": {},
   "outputs": [
    {
     "name": "stdout",
     "output_type": "stream",
     "text": [
      "['adventureworks', 'dvdrental']\n"
     ]
    }
   ],
   "source": [
    "print(db_meta.get_database_list())\n",
    "db_meta.set_curr_database('dvdrental')"
   ]
  },
  {
   "cell_type": "code",
   "execution_count": 40,
   "metadata": {},
   "outputs": [
    {
     "ename": "AttributeError",
     "evalue": "'PostgresConnection' object has no attribute 'search_by_query'",
     "output_type": "error",
     "traceback": [
      "\u001b[0;31m---------------------------------------------------------------------------\u001b[0m",
      "\u001b[0;31mAttributeError\u001b[0m                            Traceback (most recent call last)",
      "Cell \u001b[0;32mIn[40], line 3\u001b[0m\n\u001b[1;32m      1\u001b[0m query \u001b[38;5;241m=\u001b[39m \u001b[38;5;124m\"\u001b[39m\u001b[38;5;124mWhat is the total revenue for top 5 cutomers?\u001b[39m\u001b[38;5;124m\"\u001b[39m\n\u001b[0;32m----> 3\u001b[0m test_result \u001b[38;5;241m=\u001b[39m \u001b[43mdb_meta\u001b[49m\u001b[38;5;241;43m.\u001b[39;49m\u001b[43msearch_by_query\u001b[49m(\u001b[38;5;124m'\u001b[39m\u001b[38;5;124mdvdrental\u001b[39m\u001b[38;5;124m'\u001b[39m, query , \u001b[38;5;241m80\u001b[39m, \u001b[38;5;241m5\u001b[39m)\n\u001b[1;32m      5\u001b[0m \u001b[38;5;28mprint\u001b[39m(test_result)\n",
      "\u001b[0;31mAttributeError\u001b[0m: 'PostgresConnection' object has no attribute 'search_by_query'"
     ]
    }
   ],
   "source": []
  },
  {
   "cell_type": "markdown",
   "metadata": {},
   "source": [
    "# RAG Flow"
   ]
  },
  {
   "cell_type": "code",
   "execution_count": 28,
   "metadata": {},
   "outputs": [
    {
     "name": "stdout",
     "output_type": "stream",
     "text": [
      "['OpenAI: gpt-4o-mini', 'OpenAI: gpt-3.5-turbo', 'TBD: tbd']\n"
     ]
    }
   ],
   "source": [
    "import llm\n",
    "reimport_all()\n",
    "\n",
    "from llm import LLM, PromptGenerator\n",
    "template_path = os.path.normpath(os.path.abspath(os.path.join(os.getcwd(), os.path.pardir, 'sql_generator/templates')))\n",
    "config_path = os.path.normpath(os.path.abspath(os.path.join(os.getcwd(), os.path.pardir, 'sql_generator/config/llm.yaml')))\n",
    "pg = PromptGenerator(template_path)\n",
    "\n",
    "my_llm = LLM(config_path)\n",
    "models = my_llm.get_model_list()\n",
    "print(models)\n"
   ]
  },
  {
   "cell_type": "code",
   "execution_count": 5,
   "metadata": {},
   "outputs": [],
   "source": [
    "import db\n",
    "importlib.reload(db)\n",
    "from db import DBConnectionFactory\n",
    "db_conn = DBConnectionFactory.\\\n",
    "    get_db_connection(\\\n",
    "        db_type='postgres',\n",
    "        db_name = os.environ['POSTGRES_DB'],\n",
    "        db_host='localhost',\n",
    "        db_port = os.environ['POSTGRES_L_PORT'], \n",
    "        db_user = os.environ['POSTGRES_USER'] ,\n",
    "        db_password = os.environ['POSTGRES_PASSWORD']\n",
    "    )"
   ]
  },
  {
   "cell_type": "code",
   "execution_count": 14,
   "metadata": {},
   "outputs": [],
   "source": [
    "import search\n",
    "importlib.reload(search)\n",
    "importlib.reload(db)\n",
    "from search import SearchFactory, SearchTypes\n",
    "my_search = SearchFactory.get_search_provider(SearchTypes.FUZZY_SEARCH, db_conn=db_conn)\n"
   ]
  },
  {
   "cell_type": "code",
   "execution_count": 12,
   "metadata": {},
   "outputs": [],
   "source": [
    "\n",
    "#query = \"What is the total revenue for top 5 cutomers?\"\n",
    "\n",
    "query = \"What were the most popular films in July 2005?\"\n",
    "#query = \"Are semicolons optional in JavaScript?\"\n",
    "\n",
    "\n",
    "#query = \"Show me actor's first_name, last_name that have Nick, Ed and Jennifer as their firstnames\""
   ]
  },
  {
   "cell_type": "code",
   "execution_count": 26,
   "metadata": {},
   "outputs": [
    {
     "name": "stdout",
     "output_type": "stream",
     "text": [
      "<memory at 0x107b17e80>\n",
      "['films', 'July', '2005', 'film']\n",
      "Generating synonyms for: films\n",
      "Generating synonyms for: July\n",
      "Generating synonyms for: 2005\n",
      "Generating synonyms for: film\n"
     ]
    }
   ],
   "source": [
    "discovered_tables = my_search.search_by_query(db_name='adventureworks', query=query, similarity_threshold=80, max_synonyms=5)\n",
    "#print(discovered_tables)\n"
   ]
  },
  {
   "cell_type": "code",
   "execution_count": 24,
   "metadata": {},
   "outputs": [],
   "source": [
    "prompt = pg.get_prompt(template_name='basic_prompt', schema=discovered_tables, instruction=query)\n",
    "#print(prompt)"
   ]
  },
  {
   "cell_type": "code",
   "execution_count": 22,
   "metadata": {},
   "outputs": [
    {
     "name": "stdout",
     "output_type": "stream",
     "text": [
      "gpt-4o-miniHere is a database schema: \n",
      "                    table_name  \\\n",
      "1                   actor_info   \n",
      "8                         film   \n",
      "9                   film_actor   \n",
      "10               film_category   \n",
      "11                   film_list   \n",
      "12                   inventory   \n",
      "14  nicer_but_slower_film_list   \n",
      "17      sales_by_film_category   \n",
      "\n",
      "                                          column_name  \n",
      "1        [actor_id, film_info, first_name, last_name]  \n",
      "8   [description, film_id, fulltext, language_id, ...  \n",
      "9                    [actor_id, film_id, last_update]  \n",
      "10                [category_id, film_id, last_update]  \n",
      "11  [actors, category, description, fid, length, p...  \n",
      "12     [film_id, inventory_id, last_update, store_id]  \n",
      "14  [actors, category, description, fid, length, p...  \n",
      "17                            [category, total_sales]  \n",
      "  Please write me a syntactically correct SQL statement that answers the following question: What were the most popular films in July 2005?\n",
      "  It is not necessary to use all the tables. Use tag <SQL> to wrap the SQL statement.\n",
      "<SQL>\n",
      "SELECT f.title, SUM(i.quantity) AS total_sales\n",
      "FROM film f\n",
      "JOIN inventory i ON f.film_id = i.film_id\n",
      "JOIN rental r ON i.inventory_id = r.inventory_id\n",
      "JOIN payment p ON r.rental_id = p.rental_id\n",
      "WHERE r.rental_date BETWEEN '2005-07-01' AND '2005-07-31'\n",
      "GROUP BY f.title\n",
      "ORDER BY total_sales DESC\n",
      "LIMIT 10;\n",
      "</SQL>\n"
     ]
    }
   ],
   "source": [
    "response = my_llm.prompt(models[0], prompt)\n",
    "#print(response)"
   ]
  },
  {
   "cell_type": "code",
   "execution_count": 42,
   "metadata": {},
   "outputs": [
    {
     "ename": "NameError",
     "evalue": "name 'related_tables' is not defined",
     "output_type": "error",
     "traceback": [
      "\u001b[0;31m---------------------------------------------------------------------------\u001b[0m",
      "\u001b[0;31mNameError\u001b[0m                                 Traceback (most recent call last)",
      "Cell \u001b[0;32mIn[42], line 2\u001b[0m\n\u001b[1;32m      1\u001b[0m \u001b[38;5;28;01mimport\u001b[39;00m \u001b[38;5;21;01mre\u001b[39;00m\n\u001b[0;32m----> 2\u001b[0m response \u001b[38;5;241m=\u001b[39m llm\u001b[38;5;241m.\u001b[39mrag_query(query, \u001b[43mrelated_tables\u001b[49m, idx_minsearch)\n\u001b[1;32m      3\u001b[0m \u001b[38;5;28mprint\u001b[39m(response)\n\u001b[1;32m      4\u001b[0m sql_pattern \u001b[38;5;241m=\u001b[39m \u001b[38;5;124mr\u001b[39m\u001b[38;5;124m\"\u001b[39m\u001b[38;5;124m<SQL>([\u001b[39m\u001b[38;5;124m\\\u001b[39m\u001b[38;5;124ms\u001b[39m\u001b[38;5;124m\\\u001b[39m\u001b[38;5;124mS]*?)(?=<\u001b[39m\u001b[38;5;124m\\\u001b[39m\u001b[38;5;124m/SQL>)\u001b[39m\u001b[38;5;124m\"\u001b[39m\n",
      "\u001b[0;31mNameError\u001b[0m: name 'related_tables' is not defined"
     ]
    }
   ],
   "source": [
    "import re\n",
    "response = my_llm.rag_query(query, related_tables, idx_minsearch)\n",
    "print(response)\n",
    "sql_pattern = r\"<SQL>([\\s\\S]*?)(?=<\\/SQL>)\"\n",
    "sql = str(re.search(sql_pattern, response).group(1)).strip()\n",
    "print(sql)"
   ]
  },
  {
   "cell_type": "code",
   "execution_count": 14,
   "metadata": {},
   "outputs": [],
   "source": [
    "from openai import OpenAI    \n",
    "llm = OpenAI(api_key=os.environ['OPENAI_API_KEY'])\n",
    "response = llm.chat.completions.create(\n",
    "    model='gpt-4o-mini',\n",
    "    messages=[\n",
    "            #{\n",
    "            #    \"role\": \"system\",\n",
    "            #    \"content\": \"You are a helpful assistant.\"\n",
    "            #},\n",
    "            {\"role\": \"user\", \"content\": query}\n",
    "        ],\n",
    "        stream=False\n",
    "        )"
   ]
  },
  {
   "cell_type": "code",
   "execution_count": 15,
   "metadata": {},
   "outputs": [
    {
     "name": "stdout",
     "output_type": "stream",
     "text": [
      "Yes, semicolons are technically optional in JavaScript due to a feature called Automatic Semicolon Insertion (ASI). JavaScript interpreters automatically insert semicolons in certain situations where they are omitted, which can help prevent errors in many cases.\n",
      "\n",
      "However, relying on ASI can lead to unexpected behavior and hard-to-debug issues. Here are some important points to consider:\n",
      "\n",
      "1. **When ASI Works**: In many cases, ASI will correctly insert semicolons for you. For example:\n",
      "   ```javascript\n",
      "   let a = 5\n",
      "   let b = 10\n",
      "   console.log(a + b) // ASI inserts semicolons here\n",
      "   ```\n",
      "\n",
      "2. **Potential Pitfalls**: There are scenarios where ASI can lead to unexpected results:\n",
      "   ```javascript\n",
      "   function example() {\n",
      "       return\n",
      "       {\n",
      "           key: 'value'\n",
      "       }\n",
      "   }\n",
      "   ```\n",
      "   In this case, the `return` statement will be interpreted as `return;` (returning `undefined`) because of a newline after `return`.\n",
      "\n",
      "3. **Best Practices**: It is generally recommended to use semicolons consistently to avoid confusion and possible errors. Many developers prefer the clarity that explicit semicolons provide, and many style guides endorse their use (e.g., Airbnb JavaScript Style Guide).\n",
      "\n",
      "In summary, while semicolons are optional in JavaScript due to ASI, using them consistently can help you write clearer and more reliable code.\n"
     ]
    }
   ],
   "source": [
    "print(response.choices[0].message.content)"
   ]
  }
 ],
 "metadata": {
  "kernelspec": {
   "display_name": ".venv",
   "language": "python",
   "name": "python3"
  },
  "language_info": {
   "codemirror_mode": {
    "name": "ipython",
    "version": 3
   },
   "file_extension": ".py",
   "mimetype": "text/x-python",
   "name": "python",
   "nbconvert_exporter": "python",
   "pygments_lexer": "ipython3",
   "version": "3.11.10"
  }
 },
 "nbformat": 4,
 "nbformat_minor": 2
}
