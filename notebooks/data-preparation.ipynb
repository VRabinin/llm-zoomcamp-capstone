{
 "cells": [
  {
   "cell_type": "markdown",
   "metadata": {},
   "source": [
    "# Download the SQL Dataset"
   ]
  },
  {
   "cell_type": "code",
   "execution_count": 1,
   "metadata": {},
   "outputs": [
    {
     "name": "stderr",
     "output_type": "stream",
     "text": [
      "/Users/vrabinin/Documents/Github/llm-zoomcamp-capstone/.venv/lib/python3.11/site-packages/tqdm/auto.py:21: TqdmWarning: IProgress not found. Please update jupyter and ipywidgets. See https://ipywidgets.readthedocs.io/en/stable/user_install.html\n",
      "  from .autonotebook import tqdm as notebook_tqdm\n"
     ]
    }
   ],
   "source": [
    "from datasets import load_dataset"
   ]
  },
  {
   "cell_type": "code",
   "execution_count": 10,
   "metadata": {},
   "outputs": [
    {
     "name": "stdout",
     "output_type": "stream",
     "text": [
      "DatasetDict({\n",
      "    train: Dataset({\n",
      "        features: ['input', 'output'],\n",
      "        num_rows: 184503\n",
      "    })\n",
      "})\n"
     ]
    }
   ],
   "source": [
    "dataset = load_dataset('shiroyasha13/llama_text_to_sql_dataset')\n",
    "print(dataset)"
   ]
  },
  {
   "cell_type": "code",
   "execution_count": 3,
   "metadata": {},
   "outputs": [
    {
     "name": "stdout",
     "output_type": "stream",
     "text": [
      "DatasetDict({\n",
      "    train: Dataset({\n",
      "        features: ['input', 'output'],\n",
      "        num_rows: 184503\n",
      "    })\n",
      "})\n"
     ]
    }
   ],
   "source": [
    "print(dataset)"
   ]
  },
  {
   "cell_type": "code",
   "execution_count": 6,
   "metadata": {},
   "outputs": [
    {
     "name": "stdout",
     "output_type": "stream",
     "text": [
      "Dataset({\n",
      "    features: ['input', 'output'],\n",
      "    num_rows: 184503\n",
      "})\n"
     ]
    }
   ],
   "source": [
    "train_dataset = dataset['train']\n",
    "train_dataset.save_to_disk('../data/llama_text_to_sql_dataset')\n",
    "print(train_dataset)"
   ]
  },
  {
   "cell_type": "markdown",
   "metadata": {},
   "source": [
    "# Get Sample Database"
   ]
  },
  {
   "cell_type": "code",
   "execution_count": 18,
   "metadata": {},
   "outputs": [
    {
     "name": "stderr",
     "output_type": "stream",
     "text": [
      "3069.36s - pydevd: Sending message related to process being replaced timed-out after 5 seconds\n"
     ]
    },
    {
     "name": "stdout",
     "output_type": "stream",
     "text": [
      "--2024-09-15 11:57:47--  https://www.postgresqltutorial.com/wp-content/uploads/2019/05/dvdrental.zip\n",
      "Herleiden van www.postgresqltutorial.com (www.postgresqltutorial.com)... 104.21.2.174, 172.67.129.129\n",
      "Verbinding maken met www.postgresqltutorial.com (www.postgresqltutorial.com)|104.21.2.174|:443... verbonden.\n",
      "HTTP-verzoek is verzonden; wachten op antwoord... 200 OK\n",
      "Lengte: 550906 (538K) [application/zip]\n",
      "Wordt opgeslagen als: ‘../data/dvdrental.zip’\n",
      "\n",
      "dvdrental.zip       100%[===================>] 537,99K  --.-KB/s    in 0,05s   \n",
      "\n",
      "2024-09-15 11:57:47 (10,7 MB/s) - '‘../data/dvdrental.zip’' opgeslagen [550906/550906]\n",
      "\n"
     ]
    }
   ],
   "source": [
    "!wget --directory-prefix=../data https://www.postgresqltutorial.com/wp-content/uploads/2019/05/dvdrental.zip"
   ]
  },
  {
   "cell_type": "code",
   "execution_count": 19,
   "metadata": {},
   "outputs": [
    {
     "name": "stdout",
     "output_type": "stream",
     "text": [
      "Contents extracted to ../data/dvdrental_db\n"
     ]
    }
   ],
   "source": [
    "import zipfile\n",
    "import os\n",
    "\n",
    "# Path to the zip file\n",
    "zip_file_path = '../data/dvdrental.zip'\n",
    "\n",
    "# Directory to extract the contents\n",
    "extract_dir = '../data/dvdrental_db'\n",
    "\n",
    "# Create the directory if it doesn't exist\n",
    "os.makedirs(extract_dir, exist_ok=True)\n",
    "\n",
    "# Extract the contents of the zip file\n",
    "with zipfile.ZipFile(zip_file_path, 'r') as zip_ref:\n",
    "    zip_ref.extractall(extract_dir)\n",
    "\n",
    "print(f'Contents extracted to {extract_dir}')"
   ]
  },
  {
   "cell_type": "code",
   "execution_count": 20,
   "metadata": {},
   "outputs": [
    {
     "name": "stdout",
     "output_type": "stream",
     "text": [
      "../data/dvdrental.zip has been deleted.\n"
     ]
    }
   ],
   "source": [
    "# Check if the file exists and delete it\n",
    "if os.path.exists(zip_file_path):\n",
    "    os.remove(zip_file_path)\n",
    "    print(f'{zip_file_path} has been deleted.')\n",
    "else:\n",
    "    print(f'{zip_file_path} does not exist.')"
   ]
  },
  {
   "cell_type": "markdown",
   "metadata": {},
   "source": [
    "# Curate the Dataset"
   ]
  },
  {
   "cell_type": "code",
   "execution_count": 25,
   "metadata": {},
   "outputs": [
    {
     "data": {
      "text/html": [
       "<div>\n",
       "<style scoped>\n",
       "    .dataframe tbody tr th:only-of-type {\n",
       "        vertical-align: middle;\n",
       "    }\n",
       "\n",
       "    .dataframe tbody tr th {\n",
       "        vertical-align: top;\n",
       "    }\n",
       "\n",
       "    .dataframe thead th {\n",
       "        text-align: right;\n",
       "    }\n",
       "</style>\n",
       "<table border=\"1\" class=\"dataframe\">\n",
       "  <thead>\n",
       "    <tr style=\"text-align: right;\">\n",
       "      <th></th>\n",
       "      <th>input</th>\n",
       "      <th>output</th>\n",
       "    </tr>\n",
       "  </thead>\n",
       "  <tbody>\n",
       "    <tr>\n",
       "      <th>0</th>\n",
       "      <td>[INST] Here is a database schema: table schema...</td>\n",
       "      <td>SELECT COUNT(*) FROM table_204_780 WHERE \"posi...</td>\n",
       "    </tr>\n",
       "    <tr>\n",
       "      <th>1</th>\n",
       "      <td>[INST] Here is a database schema: table schema...</td>\n",
       "      <td>SELECT rowers FROM table_name_80 WHERE country...</td>\n",
       "    </tr>\n",
       "    <tr>\n",
       "      <th>2</th>\n",
       "      <td>[INST] Here is a database schema: table schema...</td>\n",
       "      <td>SELECT MAX(attendance) FROM table_name_94 WHER...</td>\n",
       "    </tr>\n",
       "    <tr>\n",
       "      <th>3</th>\n",
       "      <td>[INST] Here is a database schema: table schema...</td>\n",
       "      <td>SELECT years FROM table_name_83 WHERE national...</td>\n",
       "    </tr>\n",
       "    <tr>\n",
       "      <th>4</th>\n",
       "      <td>[INST] Here is a database schema: table schema...</td>\n",
       "      <td>SELECT name, COUNT(name) FROM course AS T1 JOI...</td>\n",
       "    </tr>\n",
       "  </tbody>\n",
       "</table>\n",
       "</div>"
      ],
      "text/plain": [
       "                                               input  \\\n",
       "0  [INST] Here is a database schema: table schema...   \n",
       "1  [INST] Here is a database schema: table schema...   \n",
       "2  [INST] Here is a database schema: table schema...   \n",
       "3  [INST] Here is a database schema: table schema...   \n",
       "4  [INST] Here is a database schema: table schema...   \n",
       "\n",
       "                                              output  \n",
       "0  SELECT COUNT(*) FROM table_204_780 WHERE \"posi...  \n",
       "1  SELECT rowers FROM table_name_80 WHERE country...  \n",
       "2  SELECT MAX(attendance) FROM table_name_94 WHER...  \n",
       "3  SELECT years FROM table_name_83 WHERE national...  \n",
       "4  SELECT name, COUNT(name) FROM course AS T1 JOI...  "
      ]
     },
     "execution_count": 25,
     "metadata": {},
     "output_type": "execute_result"
    }
   ],
   "source": [
    "from datasets import load_from_disk, Dataset\n",
    "import pandas as pd\n",
    "import re\n",
    "src_dataset = load_from_disk('../data/llama_text_to_sql_dataset')\n",
    "df_dataset = src_dataset.to_pandas()\n",
    "df_dataset.head()"
   ]
  },
  {
   "cell_type": "markdown",
   "metadata": {},
   "source": [
    "## Function to extract Instruction and Schema\n"
   ]
  },
  {
   "cell_type": "code",
   "execution_count": 16,
   "metadata": {},
   "outputs": [],
   "source": [
    "# Function to extract schema and instruction\n",
    "def extract_schema_and_instruction(text):\n",
    "    #schema_pattern = r\"table schema: (.*?)(?=Please write me a syntactically correct SQL statement)\"\n",
    "    schema_pattern = r\"table schema: (.*?)(?=\\n)\"\n",
    "    instruction_pattern = r\"Please write me a syntactically correct SQL statement that answers the following question: (.*?)(?=\\[\\/INST\\])\"\n",
    "    \n",
    "    schema_match = re.search(schema_pattern, text)\n",
    "    instruction_match = re.search(instruction_pattern, text)\n",
    "    \n",
    "    schema = schema_match.group(1).strip() if schema_match else None\n",
    "    instruction = instruction_match.group(1).strip() if instruction_match else None\n",
    "    \n",
    "    return schema, instruction"
   ]
  },
  {
   "cell_type": "code",
   "execution_count": 28,
   "metadata": {},
   "outputs": [
    {
     "data": {
      "text/html": [
       "<div>\n",
       "<style scoped>\n",
       "    .dataframe tbody tr th:only-of-type {\n",
       "        vertical-align: middle;\n",
       "    }\n",
       "\n",
       "    .dataframe tbody tr th {\n",
       "        vertical-align: top;\n",
       "    }\n",
       "\n",
       "    .dataframe thead th {\n",
       "        text-align: right;\n",
       "    }\n",
       "</style>\n",
       "<table border=\"1\" class=\"dataframe\">\n",
       "  <thead>\n",
       "    <tr style=\"text-align: right;\">\n",
       "      <th></th>\n",
       "      <th>input</th>\n",
       "      <th>output</th>\n",
       "      <th>schema</th>\n",
       "      <th>instruction</th>\n",
       "      <th>keyword</th>\n",
       "    </tr>\n",
       "  </thead>\n",
       "  <tbody>\n",
       "    <tr>\n",
       "      <th>0</th>\n",
       "      <td>[INST] Here is a database schema: table schema...</td>\n",
       "      <td>SELECT COUNT(*) FROM table_204_780 WHERE \"posi...</td>\n",
       "      <td>table_204_780:  id [ number]  \"year\" [ number]...</td>\n",
       "      <td>tell me the number of times he placed 4th .It ...</td>\n",
       "      <td>DUMMY</td>\n",
       "    </tr>\n",
       "    <tr>\n",
       "      <th>1</th>\n",
       "      <td>[INST] Here is a database schema: table schema...</td>\n",
       "      <td>SELECT rowers FROM table_name_80 WHERE country...</td>\n",
       "      <td>table_name_80:  rowers [ VARCHAR]  country [ V...</td>\n",
       "      <td>Who is the rower from Canada?It is not neccess...</td>\n",
       "      <td>DUMMY</td>\n",
       "    </tr>\n",
       "    <tr>\n",
       "      <th>2</th>\n",
       "      <td>[INST] Here is a database schema: table schema...</td>\n",
       "      <td>SELECT MAX(attendance) FROM table_name_94 WHER...</td>\n",
       "      <td>table_name_94:  attendance [ INTEGER]  result ...</td>\n",
       "      <td>What is the highest attendance at a game with ...</td>\n",
       "      <td>DUMMY</td>\n",
       "    </tr>\n",
       "    <tr>\n",
       "      <th>3</th>\n",
       "      <td>[INST] Here is a database schema: table schema...</td>\n",
       "      <td>SELECT years FROM table_name_83 WHERE national...</td>\n",
       "      <td>table_name_83:  years [ VARCHAR]  nationality ...</td>\n",
       "      <td>What is Years, when Nationality is United Stat...</td>\n",
       "      <td>DUMMY</td>\n",
       "    </tr>\n",
       "    <tr>\n",
       "      <th>4</th>\n",
       "      <td>[INST] Here is a database schema: table schema...</td>\n",
       "      <td>SELECT name, COUNT(name) FROM course AS T1 JOI...</td>\n",
       "      <td>advisor:  s_ID [ varchar(5)]  i_ID [ varchar(5)]</td>\n",
       "      <td>List the number of courses in year 2008 for ea...</td>\n",
       "      <td>DUMMY</td>\n",
       "    </tr>\n",
       "  </tbody>\n",
       "</table>\n",
       "</div>"
      ],
      "text/plain": [
       "                                               input  \\\n",
       "0  [INST] Here is a database schema: table schema...   \n",
       "1  [INST] Here is a database schema: table schema...   \n",
       "2  [INST] Here is a database schema: table schema...   \n",
       "3  [INST] Here is a database schema: table schema...   \n",
       "4  [INST] Here is a database schema: table schema...   \n",
       "\n",
       "                                              output  \\\n",
       "0  SELECT COUNT(*) FROM table_204_780 WHERE \"posi...   \n",
       "1  SELECT rowers FROM table_name_80 WHERE country...   \n",
       "2  SELECT MAX(attendance) FROM table_name_94 WHER...   \n",
       "3  SELECT years FROM table_name_83 WHERE national...   \n",
       "4  SELECT name, COUNT(name) FROM course AS T1 JOI...   \n",
       "\n",
       "                                              schema  \\\n",
       "0  table_204_780:  id [ number]  \"year\" [ number]...   \n",
       "1  table_name_80:  rowers [ VARCHAR]  country [ V...   \n",
       "2  table_name_94:  attendance [ INTEGER]  result ...   \n",
       "3  table_name_83:  years [ VARCHAR]  nationality ...   \n",
       "4   advisor:  s_ID [ varchar(5)]  i_ID [ varchar(5)]   \n",
       "\n",
       "                                         instruction keyword  \n",
       "0  tell me the number of times he placed 4th .It ...   DUMMY  \n",
       "1  Who is the rower from Canada?It is not neccess...   DUMMY  \n",
       "2  What is the highest attendance at a game with ...   DUMMY  \n",
       "3  What is Years, when Nationality is United Stat...   DUMMY  \n",
       "4  List the number of courses in year 2008 for ea...   DUMMY  "
      ]
     },
     "execution_count": 28,
     "metadata": {},
     "output_type": "execute_result"
    }
   ],
   "source": [
    "# Apply the function to the DataFrame column\n",
    "df_dataset1 = df_dataset.copy()\n",
    "df_dataset1[['schema', 'instruction']] = df_dataset1['input'].apply(lambda x: pd.Series(extract_schema_and_instruction(x)))\n",
    "df_dataset1[['keyword']] = 'DUMMY'\n",
    "\n",
    "# Print the DataFrame with the new columns\n",
    "df_dataset1.head()"
   ]
  },
  {
   "cell_type": "code",
   "execution_count": 34,
   "metadata": {},
   "outputs": [
    {
     "data": {
      "text/html": [
       "<div>\n",
       "<style scoped>\n",
       "    .dataframe tbody tr th:only-of-type {\n",
       "        vertical-align: middle;\n",
       "    }\n",
       "\n",
       "    .dataframe tbody tr th {\n",
       "        vertical-align: top;\n",
       "    }\n",
       "\n",
       "    .dataframe thead th {\n",
       "        text-align: right;\n",
       "    }\n",
       "</style>\n",
       "<table border=\"1\" class=\"dataframe\">\n",
       "  <thead>\n",
       "    <tr style=\"text-align: right;\">\n",
       "      <th></th>\n",
       "      <th>input</th>\n",
       "      <th>output</th>\n",
       "      <th>schema</th>\n",
       "      <th>instruction</th>\n",
       "      <th>keyword</th>\n",
       "    </tr>\n",
       "  </thead>\n",
       "  <tbody>\n",
       "    <tr>\n",
       "      <th>0</th>\n",
       "      <td>[INST] Here is a database schema: table schema...</td>\n",
       "      <td>SELECT COUNT(*) FROM table_204_780 WHERE \"posi...</td>\n",
       "      <td>table_204_780:  id [ number]  \"year\" [ number]...</td>\n",
       "      <td>tell me the number of times he placed 4th .It ...</td>\n",
       "      <td>DUMMY</td>\n",
       "    </tr>\n",
       "    <tr>\n",
       "      <th>1</th>\n",
       "      <td>[INST] Here is a database schema: table schema...</td>\n",
       "      <td>SELECT rowers FROM table_name_80 WHERE country...</td>\n",
       "      <td>table_name_80:  rowers [ VARCHAR]  country [ V...</td>\n",
       "      <td>Who is the rower from Canada?It is not neccess...</td>\n",
       "      <td>DUMMY</td>\n",
       "    </tr>\n",
       "    <tr>\n",
       "      <th>2</th>\n",
       "      <td>[INST] Here is a database schema: table schema...</td>\n",
       "      <td>SELECT MAX(attendance) FROM table_name_94 WHER...</td>\n",
       "      <td>table_name_94:  attendance [ INTEGER]  result ...</td>\n",
       "      <td>What is the highest attendance at a game with ...</td>\n",
       "      <td>DUMMY</td>\n",
       "    </tr>\n",
       "    <tr>\n",
       "      <th>3</th>\n",
       "      <td>[INST] Here is a database schema: table schema...</td>\n",
       "      <td>SELECT years FROM table_name_83 WHERE national...</td>\n",
       "      <td>table_name_83:  years [ VARCHAR]  nationality ...</td>\n",
       "      <td>What is Years, when Nationality is United Stat...</td>\n",
       "      <td>DUMMY</td>\n",
       "    </tr>\n",
       "    <tr>\n",
       "      <th>4</th>\n",
       "      <td>[INST] Here is a database schema: table schema...</td>\n",
       "      <td>SELECT name, COUNT(name) FROM course AS T1 JOI...</td>\n",
       "      <td>advisor:  s_ID [ varchar(5)]  i_ID [ varchar(5)]</td>\n",
       "      <td>List the number of courses in year 2008 for ea...</td>\n",
       "      <td>DUMMY</td>\n",
       "    </tr>\n",
       "  </tbody>\n",
       "</table>\n",
       "</div>"
      ],
      "text/plain": [
       "                                               input  \\\n",
       "0  [INST] Here is a database schema: table schema...   \n",
       "1  [INST] Here is a database schema: table schema...   \n",
       "2  [INST] Here is a database schema: table schema...   \n",
       "3  [INST] Here is a database schema: table schema...   \n",
       "4  [INST] Here is a database schema: table schema...   \n",
       "\n",
       "                                              output  \\\n",
       "0  SELECT COUNT(*) FROM table_204_780 WHERE \"posi...   \n",
       "1  SELECT rowers FROM table_name_80 WHERE country...   \n",
       "2  SELECT MAX(attendance) FROM table_name_94 WHER...   \n",
       "3  SELECT years FROM table_name_83 WHERE national...   \n",
       "4  SELECT name, COUNT(name) FROM course AS T1 JOI...   \n",
       "\n",
       "                                              schema  \\\n",
       "0  table_204_780:  id [ number]  \"year\" [ number]...   \n",
       "1  table_name_80:  rowers [ VARCHAR]  country [ V...   \n",
       "2  table_name_94:  attendance [ INTEGER]  result ...   \n",
       "3  table_name_83:  years [ VARCHAR]  nationality ...   \n",
       "4   advisor:  s_ID [ varchar(5)]  i_ID [ varchar(5)]   \n",
       "\n",
       "                                         instruction keyword  \n",
       "0  tell me the number of times he placed 4th .It ...   DUMMY  \n",
       "1  Who is the rower from Canada?It is not neccess...   DUMMY  \n",
       "2  What is the highest attendance at a game with ...   DUMMY  \n",
       "3  What is Years, when Nationality is United Stat...   DUMMY  \n",
       "4  List the number of courses in year 2008 for ea...   DUMMY  "
      ]
     },
     "execution_count": 34,
     "metadata": {},
     "output_type": "execute_result"
    }
   ],
   "source": [
    "# Remove records with empty schema and instruction columns\n",
    "df_dataset2 = df_dataset1.dropna(subset=['schema', 'instruction'])\n",
    "df_dataset2.head()"
   ]
  },
  {
   "cell_type": "code",
   "execution_count": 35,
   "metadata": {},
   "outputs": [
    {
     "data": {
      "text/html": [
       "<div>\n",
       "<style scoped>\n",
       "    .dataframe tbody tr th:only-of-type {\n",
       "        vertical-align: middle;\n",
       "    }\n",
       "\n",
       "    .dataframe tbody tr th {\n",
       "        vertical-align: top;\n",
       "    }\n",
       "\n",
       "    .dataframe thead th {\n",
       "        text-align: right;\n",
       "    }\n",
       "</style>\n",
       "<table border=\"1\" class=\"dataframe\">\n",
       "  <thead>\n",
       "    <tr style=\"text-align: right;\">\n",
       "      <th></th>\n",
       "      <th>keyword</th>\n",
       "      <th>instruction</th>\n",
       "      <th>schema</th>\n",
       "      <th>output</th>\n",
       "    </tr>\n",
       "  </thead>\n",
       "  <tbody>\n",
       "    <tr>\n",
       "      <th>0</th>\n",
       "      <td>DUMMY</td>\n",
       "      <td>tell me the number of times he placed 4th .It ...</td>\n",
       "      <td>table_204_780:  id [ number]  \"year\" [ number]...</td>\n",
       "      <td>SELECT COUNT(*) FROM table_204_780 WHERE \"posi...</td>\n",
       "    </tr>\n",
       "    <tr>\n",
       "      <th>1</th>\n",
       "      <td>DUMMY</td>\n",
       "      <td>Who is the rower from Canada?It is not neccess...</td>\n",
       "      <td>table_name_80:  rowers [ VARCHAR]  country [ V...</td>\n",
       "      <td>SELECT rowers FROM table_name_80 WHERE country...</td>\n",
       "    </tr>\n",
       "    <tr>\n",
       "      <th>2</th>\n",
       "      <td>DUMMY</td>\n",
       "      <td>What is the highest attendance at a game with ...</td>\n",
       "      <td>table_name_94:  attendance [ INTEGER]  result ...</td>\n",
       "      <td>SELECT MAX(attendance) FROM table_name_94 WHER...</td>\n",
       "    </tr>\n",
       "    <tr>\n",
       "      <th>3</th>\n",
       "      <td>DUMMY</td>\n",
       "      <td>What is Years, when Nationality is United Stat...</td>\n",
       "      <td>table_name_83:  years [ VARCHAR]  nationality ...</td>\n",
       "      <td>SELECT years FROM table_name_83 WHERE national...</td>\n",
       "    </tr>\n",
       "    <tr>\n",
       "      <th>4</th>\n",
       "      <td>DUMMY</td>\n",
       "      <td>List the number of courses in year 2008 for ea...</td>\n",
       "      <td>advisor:  s_ID [ varchar(5)]  i_ID [ varchar(5)]</td>\n",
       "      <td>SELECT name, COUNT(name) FROM course AS T1 JOI...</td>\n",
       "    </tr>\n",
       "  </tbody>\n",
       "</table>\n",
       "</div>"
      ],
      "text/plain": [
       "  keyword                                        instruction  \\\n",
       "0   DUMMY  tell me the number of times he placed 4th .It ...   \n",
       "1   DUMMY  Who is the rower from Canada?It is not neccess...   \n",
       "2   DUMMY  What is the highest attendance at a game with ...   \n",
       "3   DUMMY  What is Years, when Nationality is United Stat...   \n",
       "4   DUMMY  List the number of courses in year 2008 for ea...   \n",
       "\n",
       "                                              schema  \\\n",
       "0  table_204_780:  id [ number]  \"year\" [ number]...   \n",
       "1  table_name_80:  rowers [ VARCHAR]  country [ V...   \n",
       "2  table_name_94:  attendance [ INTEGER]  result ...   \n",
       "3  table_name_83:  years [ VARCHAR]  nationality ...   \n",
       "4   advisor:  s_ID [ varchar(5)]  i_ID [ varchar(5)]   \n",
       "\n",
       "                                              output  \n",
       "0  SELECT COUNT(*) FROM table_204_780 WHERE \"posi...  \n",
       "1  SELECT rowers FROM table_name_80 WHERE country...  \n",
       "2  SELECT MAX(attendance) FROM table_name_94 WHER...  \n",
       "3  SELECT years FROM table_name_83 WHERE national...  \n",
       "4  SELECT name, COUNT(name) FROM course AS T1 JOI...  "
      ]
     },
     "execution_count": 35,
     "metadata": {},
     "output_type": "execute_result"
    }
   ],
   "source": [
    "df_curated = df_dataset2[['keyword', 'instruction', 'schema', 'output']]\n",
    "df_curated.head()"
   ]
  },
  {
   "cell_type": "code",
   "execution_count": 36,
   "metadata": {},
   "outputs": [
    {
     "name": "stdout",
     "output_type": "stream",
     "text": [
      "Dataset({\n",
      "    features: ['keyword', 'instruction', 'schema', 'output', '__index_level_0__'],\n",
      "    num_rows: 184206\n",
      "})\n"
     ]
    }
   ],
   "source": [
    "# Create Dataset object from df_curated dataframe\n",
    "curated_dataset = Dataset.from_pandas(df_curated)\n",
    "print(curated_dataset)"
   ]
  },
  {
   "cell_type": "code",
   "execution_count": 37,
   "metadata": {},
   "outputs": [
    {
     "name": "stderr",
     "output_type": "stream",
     "text": [
      "Saving the dataset (1/1 shards): 100%|██████████| 184206/184206 [00:00<00:00, 1844084.21 examples/s]\n"
     ]
    }
   ],
   "source": [
    "curated_dataset.save_to_disk('../data/rag_dataset')"
   ]
  },
  {
   "cell_type": "markdown",
   "metadata": {},
   "source": [
    "# Extract Schema from DVDRENTAL Database"
   ]
  },
  {
   "cell_type": "code",
   "execution_count": 7,
   "metadata": {},
   "outputs": [],
   "source": [
    "import os, psycopg2, pandas as pd\n",
    "# Database connection parameters\n",
    "db_params = {\n",
    "    'dbname': 'dvdrental',\n",
    "    'user': os.environ['POSTGRES_USER'],\n",
    "    'password': os.environ['POSTGRES_PASSWORD'],\n",
    "    'host': 'localhost',\n",
    "    'port': os.environ['POSTGRES_PORT']\n",
    "}"
   ]
  },
  {
   "cell_type": "code",
   "execution_count": 11,
   "metadata": {},
   "outputs": [],
   "source": [
    "# Connect to the PostgreSQL database\n",
    "conn = psycopg2.connect(**db_params)\n",
    "cursor = conn.cursor()"
   ]
  },
  {
   "cell_type": "code",
   "execution_count": 12,
   "metadata": {},
   "outputs": [],
   "source": [
    "# SQL query to retrieve schema information\n",
    "schema_query = \"\"\"\n",
    "SELECT \n",
    "    c.table_name, \n",
    "    CASE \n",
    "        WHEN t.table_type = 'BASE TABLE' THEN 'table'\n",
    "        WHEN t.table_type = 'VIEW' THEN 'view'\n",
    "    END AS table_type,    \n",
    "    c.column_name, \n",
    "    c.data_type, \n",
    "    CASE \n",
    "        WHEN c.column_name IN (\n",
    "            SELECT kcu.column_name\n",
    "            FROM information_schema.table_constraints tco\n",
    "            JOIN information_schema.key_column_usage kcu \n",
    "                ON kcu.constraint_name = tco.constraint_name\n",
    "            WHERE tco.constraint_type = 'PRIMARY KEY' AND kcu.table_name = c.table_name\n",
    "        ) THEN TRUE ELSE FALSE \n",
    "    END AS is_primary_key,\n",
    "    c.is_nullable\n",
    "FROM information_schema.columns c\n",
    "JOIN information_schema.tables t\n",
    "    ON c.table_name = t.table_name\n",
    "ORDER BY c.table_name, c.column_name;\n",
    "\"\"\"\n",
    "\n",
    "# Execute the query\n",
    "cursor.execute(schema_query)\n",
    "schema_data = cursor.fetchall()"
   ]
  },
  {
   "cell_type": "code",
   "execution_count": 13,
   "metadata": {},
   "outputs": [
    {
     "data": {
      "text/html": [
       "<div>\n",
       "<style scoped>\n",
       "    .dataframe tbody tr th:only-of-type {\n",
       "        vertical-align: middle;\n",
       "    }\n",
       "\n",
       "    .dataframe tbody tr th {\n",
       "        vertical-align: top;\n",
       "    }\n",
       "\n",
       "    .dataframe thead th {\n",
       "        text-align: right;\n",
       "    }\n",
       "</style>\n",
       "<table border=\"1\" class=\"dataframe\">\n",
       "  <thead>\n",
       "    <tr style=\"text-align: right;\">\n",
       "      <th></th>\n",
       "      <th>table_name</th>\n",
       "      <th>table_type</th>\n",
       "      <th>column_name</th>\n",
       "      <th>column_data_type</th>\n",
       "      <th>is_primary_key</th>\n",
       "      <th>is_nullable</th>\n",
       "    </tr>\n",
       "  </thead>\n",
       "  <tbody>\n",
       "    <tr>\n",
       "      <th>0</th>\n",
       "      <td>_pg_foreign_data_wrappers</td>\n",
       "      <td>view</td>\n",
       "      <td>authorization_identifier</td>\n",
       "      <td>name</td>\n",
       "      <td>False</td>\n",
       "      <td>YES</td>\n",
       "    </tr>\n",
       "    <tr>\n",
       "      <th>1</th>\n",
       "      <td>_pg_foreign_data_wrappers</td>\n",
       "      <td>view</td>\n",
       "      <td>fdwoptions</td>\n",
       "      <td>ARRAY</td>\n",
       "      <td>False</td>\n",
       "      <td>YES</td>\n",
       "    </tr>\n",
       "    <tr>\n",
       "      <th>2</th>\n",
       "      <td>_pg_foreign_data_wrappers</td>\n",
       "      <td>view</td>\n",
       "      <td>fdwowner</td>\n",
       "      <td>oid</td>\n",
       "      <td>False</td>\n",
       "      <td>YES</td>\n",
       "    </tr>\n",
       "    <tr>\n",
       "      <th>3</th>\n",
       "      <td>_pg_foreign_data_wrappers</td>\n",
       "      <td>view</td>\n",
       "      <td>foreign_data_wrapper_catalog</td>\n",
       "      <td>name</td>\n",
       "      <td>False</td>\n",
       "      <td>YES</td>\n",
       "    </tr>\n",
       "    <tr>\n",
       "      <th>4</th>\n",
       "      <td>_pg_foreign_data_wrappers</td>\n",
       "      <td>view</td>\n",
       "      <td>foreign_data_wrapper_language</td>\n",
       "      <td>character varying</td>\n",
       "      <td>False</td>\n",
       "      <td>YES</td>\n",
       "    </tr>\n",
       "  </tbody>\n",
       "</table>\n",
       "</div>"
      ],
      "text/plain": [
       "                  table_name table_type                    column_name  \\\n",
       "0  _pg_foreign_data_wrappers       view       authorization_identifier   \n",
       "1  _pg_foreign_data_wrappers       view                     fdwoptions   \n",
       "2  _pg_foreign_data_wrappers       view                       fdwowner   \n",
       "3  _pg_foreign_data_wrappers       view   foreign_data_wrapper_catalog   \n",
       "4  _pg_foreign_data_wrappers       view  foreign_data_wrapper_language   \n",
       "\n",
       "    column_data_type  is_primary_key is_nullable  \n",
       "0               name           False         YES  \n",
       "1              ARRAY           False         YES  \n",
       "2                oid           False         YES  \n",
       "3               name           False         YES  \n",
       "4  character varying           False         YES  "
      ]
     },
     "execution_count": 13,
     "metadata": {},
     "output_type": "execute_result"
    }
   ],
   "source": [
    "# Define the DataFrame structure\n",
    "columns = ['table_name', 'table_type', 'column_name', 'column_data_type', 'is_primary_key', 'is_nullable']\n",
    "df = pd.DataFrame(schema_data, columns=columns)\n",
    "\n",
    "df.head()"
   ]
  },
  {
   "cell_type": "code",
   "execution_count": 14,
   "metadata": {},
   "outputs": [],
   "source": [
    "# Close the cursor and connection\n",
    "cursor.close()\n",
    "conn.close()"
   ]
  },
  {
   "cell_type": "code",
   "execution_count": null,
   "metadata": {},
   "outputs": [],
   "source": []
  }
 ],
 "metadata": {
  "kernelspec": {
   "display_name": ".venv",
   "language": "python",
   "name": "python3"
  },
  "language_info": {
   "codemirror_mode": {
    "name": "ipython",
    "version": 3
   },
   "file_extension": ".py",
   "mimetype": "text/x-python",
   "name": "python",
   "nbconvert_exporter": "python",
   "pygments_lexer": "ipython3",
   "version": "3.11.10"
  }
 },
 "nbformat": 4,
 "nbformat_minor": 2
}
